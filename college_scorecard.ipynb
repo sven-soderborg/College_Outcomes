{
 "cells": [
  {
   "cell_type": "markdown",
   "metadata": {},
   "source": [
    "# Import necessary packages and change display settings"
   ]
  },
  {
   "cell_type": "code",
   "execution_count": null,
   "metadata": {},
   "outputs": [],
   "source": [
    "import qgrid\n",
    "import plotly.graph_objects as go\n",
    "import pandas as pd\n",
    "pd.options.display.float_format = '{:,.2f}'.format # display numbers as with thousands separator\n",
    "pd.set_option('display.max_colwidth', None) # display full text in columns\n",
    "\n",
    "from IPython.display import display, HTML\n",
    "\n",
    "# Custom CSS to align DataFrame values to the right\n",
    "css_rules = \"\"\"\n",
    "<style>\n",
    "    table.dataframe th, table.dataframe td {\n",
    "        text-align: right !important;\n",
    "    }\n",
    "</style>\n",
    "\"\"\"\n",
    "\n",
    "# Apply the custom CSS\n",
    "display(HTML(css_rules))"
   ]
  },
  {
   "cell_type": "markdown",
   "metadata": {},
   "source": [
    "## Import pre-cleaned data and find most viable \"EARN\" variables"
   ]
  },
  {
   "cell_type": "code",
   "execution_count": null,
   "metadata": {},
   "outputs": [],
   "source": [
    "df = pd.read_csv('Data/clean_field_of_study.csv', dtype={'CIPFIELD': str, 'CIPCODE': str})\n",
    "\n",
    "# Look at which \"EARN\" variables have the most datapoints\n",
    "earn_col_counts = {}\n",
    "for col in df.columns:\n",
    "    if \"EARN\" in col:\n",
    "        earn_col_counts[col] = len(df[col].unique()) -1 # subtract 1 to account for NaN\n",
    "\n",
    "# sort dictionary by value to see which variables have the most data\n",
    "earn_col_counts = {k: v for k, v in sorted(earn_col_counts.items(), key=lambda item: item[1], reverse=True)}\n",
    "list(earn_col_counts.items())[:5] # Display first 5 items"
   ]
  },
  {
   "cell_type": "markdown",
   "metadata": {},
   "source": [
    "## Filter data down to the key variables discovered above\n",
    "* EARN_MDN_1YR: 'Median earnings of graduates working and not enrolled 1 year after completing'   \n",
    "* EARN_MDN_4YR: 'Median earnings of graduates working and not enrolled 4 years after completing'   \n",
    "* EARN_COUNT_WNE_1YR: 'Number of graduates working and not enrolled 1 year after completing'   \n",
    "* EARN_COUNT_WNE_4YR: 'Number of graduates working and not enrolled 4 years after completing'"
   ]
  },
  {
   "cell_type": "code",
   "execution_count": null,
   "metadata": {},
   "outputs": [],
   "source": [
    "# We decide to us EARN_MDN_1YR and EARN_MDN_4YR\n",
    "df = df[df.columns.to_list()[:7] + ['EARN_MDN_1YR', 'EARN_MDN_4YR', 'EARN_COUNT_WNE_1YR', 'EARN_COUNT_WNE_4YR']] \n",
    "\n",
    "# Get counts of nans\n",
    "# Number of rows where all four EARN columns have NaN values\n",
    "all_earn_nan = df[df[['EARN_MDN_1YR', 'EARN_MDN_4YR', 'EARN_COUNT_WNE_1YR', 'EARN_COUNT_WNE_4YR']].isna().all(axis=1)].shape[0]\n",
    "\n",
    "# Number of rows where each individual EARN column has NaN values\n",
    "earn_mdn_1yr_nan = df['EARN_MDN_1YR'].isna().sum()\n",
    "earn_mdn_4yr_nan = df['EARN_MDN_4YR'].isna().sum()\n",
    "earn_count_wne_1yr_nan = df['EARN_COUNT_WNE_1YR'].isna().sum()\n",
    "earn_count_wne_4yr_nan = df['EARN_COUNT_WNE_4YR'].isna().sum()\n",
    "\n",
    "print(f'All four EARN columns nan count: {all_earn_nan}\\n1YR median earnings nan count: {earn_mdn_1yr_nan}\\n4YR median earnings nan count: {earn_mdn_4yr_nan}')\n",
    "\n",
    "# Drop rows with nan's (we lose 310 total rows -- 262 of which all four columns are nan)\n",
    "df.dropna(inplace=True)\n",
    "df.to_csv('Data/ouchie.csv', index=False)\n"
   ]
  },
  {
   "cell_type": "markdown",
   "metadata": {},
   "source": [
    "## Explore earnings by University"
   ]
  },
  {
   "cell_type": "code",
   "execution_count": null,
   "metadata": {},
   "outputs": [],
   "source": [
    "# Group earnings by universities (summary stats of all programs with public record)\n",
    "univ_1yr_stats = df.groupby('INSTNM').agg({'EARN_COUNT_WNE_1YR': 'sum','EARN_MDN_1YR': ['mean', 'min', 'max']}).reset_index()\n",
    "univ_1yr_stats = univ_1yr_stats.sort_values(by=('EARN_MDN_1YR', 'mean'), ascending=False).reset_index(drop=True)\n",
    "univ_1yr_stats"
   ]
  },
  {
   "cell_type": "code",
   "execution_count": null,
   "metadata": {},
   "outputs": [],
   "source": [
    "# Group earnings by universities (summary stats of all programs with public record)\n",
    "univ_4yr_stats = df.groupby('INSTNM').agg({'EARN_COUNT_WNE_4YR': 'sum','EARN_MDN_4YR': ['mean', 'min', 'max']}).reset_index()\n",
    "univ_4yr_stats = univ_4yr_stats.sort_values(by=('EARN_MDN_4YR', 'mean'), ascending=False).reset_index(drop=True)\n",
    "univ_4yr_stats"
   ]
  },
  {
   "cell_type": "markdown",
   "metadata": {},
   "source": [
    "## Visualize University-Level Data"
   ]
  },
  {
   "cell_type": "code",
   "execution_count": null,
   "metadata": {},
   "outputs": [],
   "source": [
    "fig = go.Figure()\n",
    "\n",
    "univs = df['INSTNM'].unique().tolist() # Get list of unique universities\n",
    "\n",
    "# Create Violin plot for each University\n",
    "for univ in univs:\n",
    "    fig.add_trace(go.Violin(x=df['INSTNM'][df['INSTNM'] == univ],\n",
    "                            y=df['EARN_MDN_4YR'][df['INSTNM'] == univ],\n",
    "                            name=univ,\n",
    "                            box_visible=True,\n",
    "                            meanline_visible=True,\n",
    "                            showlegend=False))\n",
    "\n",
    "# Format the plot\n",
    "fig.update_yaxes(tickformat=\"$,.0f\")\n",
    "fig.update_layout(\n",
    "    title=\"Earnings 4 Years after Completion Grouped by University\",\n",
    "    yaxis_title=\"Earnings\",\n",
    "    font=dict(\n",
    "        family=\"Courier New, monospace\",\n",
    "        size=10,\n",
    "        color=\"RebeccaPurple\"\n",
    "    )\n",
    ")\n",
    "\n",
    "fig.show()"
   ]
  },
  {
   "cell_type": "code",
   "execution_count": null,
   "metadata": {},
   "outputs": [],
   "source": [
    "fig = go.Figure()\n",
    "\n",
    "univs = df['INSTNM'].unique().tolist() # Get list of unique universities\n",
    "\n",
    "# Create Violin plot for each University\n",
    "for univ in univs:\n",
    "    fig.add_trace(go.Violin(x=df['INSTNM'][df['INSTNM'] == univ],\n",
    "                            y=df['EARN_MDN_1YR'][df['INSTNM'] == univ],\n",
    "                            name=univ,\n",
    "                            box_visible=True,\n",
    "                            meanline_visible=True,\n",
    "                            showlegend=False))\n",
    "\n",
    "# Format the plot\n",
    "fig.update_yaxes(tickformat=\"$,.0f\")\n",
    "fig.update_layout(\n",
    "    title=\"Earnings 1 Years after Completion Grouped by University\",\n",
    "    yaxis_title=\"Earnings\",\n",
    "    font=dict(\n",
    "        family=\"Courier New, monospace\",\n",
    "        size=10,\n",
    "        color=\"RebeccaPurple\"\n",
    "    )\n",
    ")\n",
    "\n",
    "fig.show()"
   ]
  },
  {
   "cell_type": "markdown",
   "metadata": {},
   "source": [
    "## Explore earnings by general Field of Study   \n",
    "> Field of study defined by first two digits of CIPCODE"
   ]
  },
  {
   "cell_type": "code",
   "execution_count": null,
   "metadata": {},
   "outputs": [],
   "source": [
    "# Group earnings for each field of study (summary of all programs with public record)\n",
    "field_1yr_stats = df.groupby('CIPDEF').agg({'EARN_COUNT_WNE_1YR': 'sum','EARN_MDN_1YR': ['mean', 'min', 'max']}).reset_index()\n",
    "field_1yr_stats = field_1yr_stats.sort_values(by=('EARN_MDN_1YR', 'mean'), ascending=False).reset_index(drop=True)\n",
    "field_1yr_stats"
   ]
  },
  {
   "cell_type": "code",
   "execution_count": null,
   "metadata": {},
   "outputs": [],
   "source": [
    "# Group earnings for each field of study (summary of all programs with public record)\n",
    "field_4yr_stats = df.groupby('CIPDEF').agg({'EARN_COUNT_WNE_4YR': 'sum','EARN_MDN_4YR': ['mean', 'min', 'max']}).reset_index()\n",
    "field_4yr_stats = field_4yr_stats.sort_values(by=('EARN_MDN_4YR', 'mean'), ascending=False).reset_index(drop=True)\n",
    "field_4yr_stats"
   ]
  },
  {
   "cell_type": "markdown",
   "metadata": {},
   "source": [
    "## Visualize Field of Study Data"
   ]
  },
  {
   "cell_type": "code",
   "execution_count": null,
   "metadata": {},
   "outputs": [],
   "source": [
    "fig = go.Figure()\n",
    "\n",
    "fields = df['CIPFIELD'].unique().tolist() # Get list of unique fields of study\n",
    "\n",
    "# Create violin plot for each field of study\n",
    "for field in fields:\n",
    "    fig.add_trace(go.Violin(x=df['CIPFIELD'][df['CIPFIELD'] == field],\n",
    "                            y=df['EARN_MDN_4YR'][df['CIPFIELD'] == field],\n",
    "                            name=field,\n",
    "                            box_visible=True,\n",
    "                            meanline_visible=True,\n",
    "                            showlegend=False))\n",
    "\n",
    "# Format the plot\n",
    "fig.update_yaxes(tickformat=\"$,.0f\")\n",
    "fig.update_layout(\n",
    "    title=\"Earnings 4 Years after Completion Grouped by Field of Study\",\n",
    "    yaxis_title=\"Earnings\",\n",
    "    font=dict(\n",
    "        family=\"Courier New, monospace\",\n",
    "        size=10,\n",
    "        color=\"RebeccaPurple\"\n",
    "    )\n",
    ")\n",
    "\n",
    "fig.show()"
   ]
  },
  {
   "cell_type": "code",
   "execution_count": null,
   "metadata": {},
   "outputs": [],
   "source": [
    "fig = go.Figure()\n",
    "\n",
    "fields = df['CIPFIELD'].unique().tolist() # Get list of unique fields of study\n",
    "\n",
    "# Create violin plot for each field of study\n",
    "for field in fields:\n",
    "    fig.add_trace(go.Violin(x=df['CIPFIELD'][df['CIPFIELD'] == field],\n",
    "                            y=df['EARN_MDN_1YR'][df['CIPFIELD'] == field],\n",
    "                            name=field,\n",
    "                            box_visible=True,\n",
    "                            meanline_visible=True,\n",
    "                            showlegend=False))\n",
    "\n",
    "# Format the plot\n",
    "fig.update_yaxes(tickformat=\"$,.0f\")\n",
    "fig.update_layout(\n",
    "    title=\"Earnings 1 Year after Completion Grouped by Field of Study\",\n",
    "    yaxis_title=\"Earnings\",\n",
    "    font=dict(\n",
    "        family=\"Courier New, monospace\",\n",
    "        size=10,\n",
    "        color=\"RebeccaPurple\"\n",
    "    )\n",
    ")\n",
    "\n",
    "fig.show()"
   ]
  },
  {
   "cell_type": "markdown",
   "metadata": {},
   "source": [
    "## Explore earnings by general Field of Study within each University"
   ]
  },
  {
   "cell_type": "code",
   "execution_count": null,
   "metadata": {},
   "outputs": [],
   "source": [
    "# Group earnings for each field of study for each university\n",
    "univ_field_1yr = df.groupby(['INSTNM', 'CIPDEF']).agg({'EARN_COUNT_WNE_1YR': 'sum','EARN_MDN_1YR': ['mean', 'min', 'max']}).reset_index()\n"
   ]
  },
  {
   "cell_type": "code",
   "execution_count": null,
   "metadata": {},
   "outputs": [],
   "source": [
    "# Group earnings for each field of study for each university\n",
    "univ_field_4yr = df.groupby(['INSTNM', 'CIPDEF']).agg({'EARN_COUNT_WNE_4YR': 'sum','EARN_MDN_4YR': ['mean', 'min', 'max']}).reset_index()\n"
   ]
  }
 ],
 "metadata": {
  "kernelspec": {
   "display_name": "HonorsThesis",
   "language": "python",
   "name": "python3"
  },
  "language_info": {
   "codemirror_mode": {
    "name": "ipython",
    "version": 3
   },
   "file_extension": ".py",
   "mimetype": "text/x-python",
   "name": "python",
   "nbconvert_exporter": "python",
   "pygments_lexer": "ipython3",
   "version": "3.11.4"
  },
  "orig_nbformat": 4
 },
 "nbformat": 4,
 "nbformat_minor": 2
}
