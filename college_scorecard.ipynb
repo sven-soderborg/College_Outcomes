{
 "cells": [
  {
   "cell_type": "markdown",
   "metadata": {},
   "source": [
    "# Import necessary packages and change display settings"
   ]
  },
  {
   "cell_type": "code",
   "execution_count": 57,
   "metadata": {},
   "outputs": [
    {
     "data": {
      "text/html": [
       "\n",
       "<style>\n",
       "    table.dataframe th, table.dataframe td {\n",
       "        text-align: right !important;\n",
       "    }\n",
       "</style>\n"
      ],
      "text/plain": [
       "<IPython.core.display.HTML object>"
      ]
     },
     "metadata": {},
     "output_type": "display_data"
    }
   ],
   "source": [
    "import plotly.graph_objects as go\n",
    "import plotly.io as pio\n",
    "pio.renderers.default = \"plotly_mimetype+notebook\" # Let's us display Plotly figs after export to html file \n",
    "import seaborn as sns\n",
    "import matplotlib.pyplot as plt\n",
    "import pandas as pd\n",
    "pd.options.display.float_format = '{:,.2f}'.format # display numbers as with thousands separator\n",
    "pd.set_option('display.max_colwidth', None) # display full text in columns\n",
    "\n",
    "# Create Excel file to store data\n",
    "import openpyxl\n",
    "wb = openpyxl.Workbook()\n",
    "wb.save(\"Data/earnings_tables.xlsx\")\n",
    "\n",
    "from IPython.display import display, HTML\n",
    "\n",
    "# Custom CSS to align DataFrame values to the right\n",
    "css_rules = \"\"\"\n",
    "<style>\n",
    "    table.dataframe th, table.dataframe td {\n",
    "        text-align: right !important;\n",
    "    }\n",
    "</style>\n",
    "\"\"\"\n",
    "\n",
    "# Apply the custom CSS\n",
    "display(HTML(css_rules))\n",
    "\n"
   ]
  },
  {
   "cell_type": "markdown",
   "metadata": {},
   "source": [
    "## Import pre-cleaned data and find most viable \"EARN\" variables"
   ]
  },
  {
   "cell_type": "code",
   "execution_count": 86,
   "metadata": {},
   "outputs": [],
   "source": [
    "df = pd.read_csv('Data/clean_field_of_study.csv', dtype={'CIPFIELD': str, 'CIPCODE': str})\n",
    "\n",
    "# Look at which \"EARN\" variables have the most datapoints\n",
    "earn_col_counts = {}\n",
    "for col in df.columns:\n",
    "    if \"EARN\" in col:\n",
    "        earn_col_counts[col] = len(df[col].unique()) -1 # subtract 1 to account for NaN\n",
    "\n",
    "# sort dictionary by value to see which variables have the most data\n",
    "earn_col_counts = {k: v for k, v in sorted(earn_col_counts.items(), key=lambda item: item[1], reverse=True)}\n"
   ]
  },
  {
   "cell_type": "markdown",
   "metadata": {},
   "source": [
    "## Filter data down to the key variables discovered above\n",
    "* EARN_MDN_1YR: 'Median earnings of graduates working and not enrolled 1 year after completing'   \n",
    "* EARN_MDN_4YR: 'Median earnings of graduates working and not enrolled 4 years after completing'   \n",
    "* EARN_COUNT_WNE_1YR: 'Number of graduates working and not enrolled 1 year after completing'   \n",
    "* EARN_COUNT_WNE_4YR: 'Number of graduates working and not enrolled 4 years after completing'"
   ]
  },
  {
   "cell_type": "code",
   "execution_count": 59,
   "metadata": {},
   "outputs": [
    {
     "name": "stdout",
     "output_type": "stream",
     "text": [
      "All four EARN columns nan count: 262\n",
      "1YR median earnings nan count: 299\n",
      "4YR median earnings nan count: 310\n"
     ]
    }
   ],
   "source": [
    "# We decide to us EARN_MDN_1YR and EARN_MDN_4YR\n",
    "df = df[df.columns.to_list()[:7] + ['EARN_MDN_1YR', 'EARN_MDN_4YR', 'EARN_COUNT_WNE_1YR', 'EARN_COUNT_WNE_4YR']] \n",
    "\n",
    "# Get counts of nans\n",
    "# Number of rows where all four EARN columns have NaN values\n",
    "all_earn_nan = df[df[['EARN_MDN_1YR', 'EARN_MDN_4YR', 'EARN_COUNT_WNE_1YR', 'EARN_COUNT_WNE_4YR']].isna().all(axis=1)].shape[0]\n",
    "\n",
    "# Number of rows where each individual EARN column has NaN values\n",
    "earn_mdn_1yr_nan = df['EARN_MDN_1YR'].isna().sum()\n",
    "earn_mdn_4yr_nan = df['EARN_MDN_4YR'].isna().sum()\n",
    "earn_count_wne_1yr_nan = df['EARN_COUNT_WNE_1YR'].isna().sum()\n",
    "earn_count_wne_4yr_nan = df['EARN_COUNT_WNE_4YR'].isna().sum()\n",
    "\n",
    "print(f'All four EARN columns nan count: {all_earn_nan}\\n1YR median earnings nan count: {earn_mdn_1yr_nan}\\n4YR median earnings nan count: {earn_mdn_4yr_nan}')\n",
    "\n",
    "# Drop rows with nan's (we lose 310 total rows -- 262 of which all four columns are nan)\n",
    "df.dropna(inplace=True)"
   ]
  },
  {
   "cell_type": "markdown",
   "metadata": {},
   "source": [
    "## Explore earnings by University"
   ]
  },
  {
   "cell_type": "code",
   "execution_count": 60,
   "metadata": {},
   "outputs": [
    {
     "data": {
      "text/html": [
       "<div>\n",
       "<style scoped>\n",
       "    .dataframe tbody tr th:only-of-type {\n",
       "        vertical-align: middle;\n",
       "    }\n",
       "\n",
       "    .dataframe tbody tr th {\n",
       "        vertical-align: top;\n",
       "    }\n",
       "\n",
       "    .dataframe thead th {\n",
       "        text-align: right;\n",
       "    }\n",
       "</style>\n",
       "<table border=\"1\" class=\"dataframe\">\n",
       "  <thead>\n",
       "    <tr style=\"text-align: right;\">\n",
       "      <th></th>\n",
       "      <th>INSTNM</th>\n",
       "      <th>EARN_COUNT_WNE_1YR_sum</th>\n",
       "      <th>EARN_MDN_1YR_median</th>\n",
       "      <th>EARN_MDN_1YR_min</th>\n",
       "      <th>EARN_MDN_1YR_max</th>\n",
       "    </tr>\n",
       "  </thead>\n",
       "  <tbody>\n",
       "    <tr>\n",
       "      <th>0</th>\n",
       "      <td>Brigham Young University</td>\n",
       "      <td>3,652.00</td>\n",
       "      <td>46,008.50</td>\n",
       "      <td>17,223.00</td>\n",
       "      <td>86,469.00</td>\n",
       "    </tr>\n",
       "    <tr>\n",
       "      <th>1</th>\n",
       "      <td>Westminster College</td>\n",
       "      <td>155.00</td>\n",
       "      <td>44,300.00</td>\n",
       "      <td>31,263.00</td>\n",
       "      <td>59,998.00</td>\n",
       "    </tr>\n",
       "    <tr>\n",
       "      <th>2</th>\n",
       "      <td>University of Utah</td>\n",
       "      <td>3,280.00</td>\n",
       "      <td>42,257.00</td>\n",
       "      <td>25,918.00</td>\n",
       "      <td>85,652.00</td>\n",
       "    </tr>\n",
       "    <tr>\n",
       "      <th>3</th>\n",
       "      <td>Weber State University</td>\n",
       "      <td>2,198.00</td>\n",
       "      <td>41,529.00</td>\n",
       "      <td>17,779.00</td>\n",
       "      <td>77,117.00</td>\n",
       "    </tr>\n",
       "    <tr>\n",
       "      <th>4</th>\n",
       "      <td>Utah Valley University</td>\n",
       "      <td>3,134.00</td>\n",
       "      <td>41,348.00</td>\n",
       "      <td>22,648.00</td>\n",
       "      <td>82,864.00</td>\n",
       "    </tr>\n",
       "    <tr>\n",
       "      <th>5</th>\n",
       "      <td>Southern Utah University</td>\n",
       "      <td>525.00</td>\n",
       "      <td>35,175.00</td>\n",
       "      <td>19,031.00</td>\n",
       "      <td>58,924.00</td>\n",
       "    </tr>\n",
       "    <tr>\n",
       "      <th>6</th>\n",
       "      <td>Utah State University</td>\n",
       "      <td>3,427.00</td>\n",
       "      <td>33,804.50</td>\n",
       "      <td>21,265.00</td>\n",
       "      <td>67,878.00</td>\n",
       "    </tr>\n",
       "  </tbody>\n",
       "</table>\n",
       "</div>"
      ],
      "text/plain": [
       "                     INSTNM  EARN_COUNT_WNE_1YR_sum  EARN_MDN_1YR_median  \\\n",
       "0  Brigham Young University                3,652.00            46,008.50   \n",
       "1       Westminster College                  155.00            44,300.00   \n",
       "2        University of Utah                3,280.00            42,257.00   \n",
       "3    Weber State University                2,198.00            41,529.00   \n",
       "4    Utah Valley University                3,134.00            41,348.00   \n",
       "5  Southern Utah University                  525.00            35,175.00   \n",
       "6     Utah State University                3,427.00            33,804.50   \n",
       "\n",
       "   EARN_MDN_1YR_min  EARN_MDN_1YR_max  \n",
       "0         17,223.00         86,469.00  \n",
       "1         31,263.00         59,998.00  \n",
       "2         25,918.00         85,652.00  \n",
       "3         17,779.00         77,117.00  \n",
       "4         22,648.00         82,864.00  \n",
       "5         19,031.00         58,924.00  \n",
       "6         21,265.00         67,878.00  "
      ]
     },
     "execution_count": 60,
     "metadata": {},
     "output_type": "execute_result"
    }
   ],
   "source": [
    "# Group earnings by universities (summary stats of all programs with public record)\n",
    "univ_1yr_stats = df.groupby('INSTNM').agg({'EARN_COUNT_WNE_1YR': 'sum','EARN_MDN_1YR': ['median', 'min', 'max']})\n",
    "univ_1yr_stats.columns = ['_'.join(col).strip() for col in univ_1yr_stats.columns.values] # remove MultiIndex column\n",
    "univ_1yr_stats = univ_1yr_stats.sort_values(by='EARN_MDN_1YR_median', ascending=False).reset_index()\n",
    "violin_order_1yr = univ_1yr_stats['INSTNM'].to_list()\n",
    "\n",
    "with pd.ExcelWriter(\"Data/earnings_tables.xlsx\", mode='a', engine='openpyxl', if_sheet_exists='replace') as writer:\n",
    "    univ_1yr_stats.to_excel(writer, sheet_name='1yr_summary', index=False)\n",
    "\n",
    "univ_1yr_stats"
   ]
  },
  {
   "cell_type": "code",
   "execution_count": 61,
   "metadata": {},
   "outputs": [
    {
     "data": {
      "text/html": [
       "<div>\n",
       "<style scoped>\n",
       "    .dataframe tbody tr th:only-of-type {\n",
       "        vertical-align: middle;\n",
       "    }\n",
       "\n",
       "    .dataframe tbody tr th {\n",
       "        vertical-align: top;\n",
       "    }\n",
       "\n",
       "    .dataframe thead th {\n",
       "        text-align: right;\n",
       "    }\n",
       "</style>\n",
       "<table border=\"1\" class=\"dataframe\">\n",
       "  <thead>\n",
       "    <tr style=\"text-align: right;\">\n",
       "      <th></th>\n",
       "      <th>INSTNM</th>\n",
       "      <th>EARN_COUNT_WNE_4YR_sum</th>\n",
       "      <th>EARN_MDN_4YR_median</th>\n",
       "      <th>EARN_MDN_4YR_min</th>\n",
       "      <th>EARN_MDN_4YR_max</th>\n",
       "    </tr>\n",
       "  </thead>\n",
       "  <tbody>\n",
       "    <tr>\n",
       "      <th>0</th>\n",
       "      <td>Westminster College</td>\n",
       "      <td>196.00</td>\n",
       "      <td>62,620.00</td>\n",
       "      <td>50,739.00</td>\n",
       "      <td>67,444.00</td>\n",
       "    </tr>\n",
       "    <tr>\n",
       "      <th>1</th>\n",
       "      <td>Brigham Young University</td>\n",
       "      <td>3,543.00</td>\n",
       "      <td>58,069.00</td>\n",
       "      <td>23,498.00</td>\n",
       "      <td>127,592.00</td>\n",
       "    </tr>\n",
       "    <tr>\n",
       "      <th>2</th>\n",
       "      <td>University of Utah</td>\n",
       "      <td>1,560.00</td>\n",
       "      <td>56,942.00</td>\n",
       "      <td>37,398.00</td>\n",
       "      <td>99,562.00</td>\n",
       "    </tr>\n",
       "    <tr>\n",
       "      <th>3</th>\n",
       "      <td>Weber State University</td>\n",
       "      <td>2,142.00</td>\n",
       "      <td>55,856.00</td>\n",
       "      <td>32,470.00</td>\n",
       "      <td>89,974.00</td>\n",
       "    </tr>\n",
       "    <tr>\n",
       "      <th>4</th>\n",
       "      <td>Utah Valley University</td>\n",
       "      <td>2,730.00</td>\n",
       "      <td>54,162.50</td>\n",
       "      <td>16,331.00</td>\n",
       "      <td>103,513.00</td>\n",
       "    </tr>\n",
       "    <tr>\n",
       "      <th>5</th>\n",
       "      <td>Utah State University</td>\n",
       "      <td>2,921.00</td>\n",
       "      <td>47,521.00</td>\n",
       "      <td>25,367.00</td>\n",
       "      <td>91,862.00</td>\n",
       "    </tr>\n",
       "    <tr>\n",
       "      <th>6</th>\n",
       "      <td>Southern Utah University</td>\n",
       "      <td>475.00</td>\n",
       "      <td>43,609.50</td>\n",
       "      <td>31,561.00</td>\n",
       "      <td>62,156.00</td>\n",
       "    </tr>\n",
       "  </tbody>\n",
       "</table>\n",
       "</div>"
      ],
      "text/plain": [
       "                     INSTNM  EARN_COUNT_WNE_4YR_sum  EARN_MDN_4YR_median  \\\n",
       "0       Westminster College                  196.00            62,620.00   \n",
       "1  Brigham Young University                3,543.00            58,069.00   \n",
       "2        University of Utah                1,560.00            56,942.00   \n",
       "3    Weber State University                2,142.00            55,856.00   \n",
       "4    Utah Valley University                2,730.00            54,162.50   \n",
       "5     Utah State University                2,921.00            47,521.00   \n",
       "6  Southern Utah University                  475.00            43,609.50   \n",
       "\n",
       "   EARN_MDN_4YR_min  EARN_MDN_4YR_max  \n",
       "0         50,739.00         67,444.00  \n",
       "1         23,498.00        127,592.00  \n",
       "2         37,398.00         99,562.00  \n",
       "3         32,470.00         89,974.00  \n",
       "4         16,331.00        103,513.00  \n",
       "5         25,367.00         91,862.00  \n",
       "6         31,561.00         62,156.00  "
      ]
     },
     "execution_count": 61,
     "metadata": {},
     "output_type": "execute_result"
    }
   ],
   "source": [
    "# Group earnings by universities (summary stats of all programs with public record)\n",
    "univ_4yr_stats = df.groupby('INSTNM').agg({'EARN_COUNT_WNE_4YR': 'sum','EARN_MDN_4YR': ['median', 'min', 'max']})\n",
    "univ_4yr_stats.columns = ['_'.join(col).strip() for col in univ_4yr_stats.columns.values] # remove MultiIndex column\n",
    "univ_4yr_stats = univ_4yr_stats.sort_values(by='EARN_MDN_4YR_median', ascending=False).reset_index()\n",
    "violin_order_4yr = univ_4yr_stats['INSTNM'].to_list()\n",
    "\n",
    "with pd.ExcelWriter(\"Data/earnings_tables.xlsx\", mode='a', engine='openpyxl', if_sheet_exists='replace') as writer:\n",
    "    univ_4yr_stats.to_excel(writer, sheet_name='4yr_summary', index=False)\n",
    "\n",
    "univ_4yr_stats"
   ]
  },
  {
   "cell_type": "markdown",
   "metadata": {},
   "source": [
    "## Visualize University-Level Data"
   ]
  },
  {
   "cell_type": "code",
   "execution_count": 62,
   "metadata": {},
   "outputs": [
    {
     "name": "stderr",
     "output_type": "stream",
     "text": [
      "C:\\Users\\svens\\AppData\\Local\\Temp\\ipykernel_13252\\1388892329.py:7: UserWarning:\n",
      "\n",
      "set_ticklabels() should only be used with a fixed number of ticks, i.e. after set_ticks() or using a FixedLocator.\n",
      "\n",
      "C:\\Users\\svens\\AppData\\Local\\Temp\\ipykernel_13252\\1388892329.py:23: UserWarning:\n",
      "\n",
      "set_ticklabels() should only be used with a fixed number of ticks, i.e. after set_ticks() or using a FixedLocator.\n",
      "\n"
     ]
    }
   ],
   "source": [
    "# Plot the 1 yr graduate earnings by University\n",
    "sns.violinplot(x=df['INSTNM'], y='EARN_MDN_1YR', data=df, fill=True, hue='INSTNM', \n",
    "               palette='pastel', inner='quart', order=violin_order_4yr, cut=0)\n",
    "\n",
    "# Customize ticks\n",
    "y_values = plt.gca().get_yticks()\n",
    "plt.gca().set_yticklabels(['${:,.0f}'.format(v) for v in y_values])\n",
    "plt.xticks(rotation=-85)\n",
    "\n",
    "# Customize titles\n",
    "plt.ylabel('Median Earnings')\n",
    "plt.xlabel('')\n",
    "plt.title('Median Earnings of Working Graduates 1 Year After Graduation')\n",
    "plt.savefig('Plots/earnings_1yr_violin.png', dpi=600, bbox_inches='tight')\n",
    "plt.close()\n",
    "\n",
    "# Plot the 4 yr graduate earnings by University\n",
    "sns.violinplot(x=df['INSTNM'], y='EARN_MDN_4YR', data=df, fill=True, hue='INSTNM', \n",
    "               palette='pastel', inner='quart', order=violin_order_4yr, cut=0)\n",
    "\n",
    "# Customize ticks\n",
    "y_values = plt.gca().get_yticks()\n",
    "plt.gca().set_yticklabels(['${:,.0f}'.format(v) for v in y_values])\n",
    "plt.xticks(rotation=-85)\n",
    "\n",
    "# Customize titles\n",
    "plt.ylabel('Median Earnings')\n",
    "plt.xlabel('')\n",
    "plt.title('Median Earnings of Working Graduates 4 Years After Graduation')\n",
    "plt.savefig('Plots/earnings_4yr_violin.png', dpi=600, bbox_inches='tight')\n",
    "plt.close()"
   ]
  },
  {
   "cell_type": "markdown",
   "metadata": {},
   "source": [
    "## Explore earnings by general Field of Study   \n",
    "> Field of study defined by first two digits of CIPCODE"
   ]
  },
  {
   "cell_type": "code",
   "execution_count": 63,
   "metadata": {},
   "outputs": [
    {
     "data": {
      "text/html": [
       "<div>\n",
       "<style scoped>\n",
       "    .dataframe tbody tr th:only-of-type {\n",
       "        vertical-align: middle;\n",
       "    }\n",
       "\n",
       "    .dataframe tbody tr th {\n",
       "        vertical-align: top;\n",
       "    }\n",
       "\n",
       "    .dataframe thead th {\n",
       "        text-align: right;\n",
       "    }\n",
       "</style>\n",
       "<table border=\"1\" class=\"dataframe\">\n",
       "  <thead>\n",
       "    <tr style=\"text-align: right;\">\n",
       "      <th></th>\n",
       "      <th>CIPDEF_</th>\n",
       "      <th>EARN_COUNT_WNE_1YR_sum</th>\n",
       "      <th>EARN_MDN_1YR_mean</th>\n",
       "      <th>EARN_MDN_1YR_min</th>\n",
       "      <th>EARN_MDN_1YR_max</th>\n",
       "    </tr>\n",
       "  </thead>\n",
       "  <tbody>\n",
       "    <tr>\n",
       "      <th>0</th>\n",
       "      <td>ENGINEERING.</td>\n",
       "      <td>1,053.00</td>\n",
       "      <td>69,412.13</td>\n",
       "      <td>60,203.00</td>\n",
       "      <td>82,864.00</td>\n",
       "    </tr>\n",
       "    <tr>\n",
       "      <th>1</th>\n",
       "      <td>COMPUTER AND INFORMATION SCIENCES AND SUPPORT SERVICES.</td>\n",
       "      <td>1,047.00</td>\n",
       "      <td>69,317.67</td>\n",
       "      <td>37,101.00</td>\n",
       "      <td>86,469.00</td>\n",
       "    </tr>\n",
       "    <tr>\n",
       "      <th>2</th>\n",
       "      <td>CONSTRUCTION TRADES.</td>\n",
       "      <td>55.00</td>\n",
       "      <td>68,886.00</td>\n",
       "      <td>68,886.00</td>\n",
       "      <td>68,886.00</td>\n",
       "    </tr>\n",
       "    <tr>\n",
       "      <th>3</th>\n",
       "      <td>ENGINEERING/ENGINEERING-RELATED TECHNOLOGIES/TECHNICIANS.</td>\n",
       "      <td>79.00</td>\n",
       "      <td>65,609.00</td>\n",
       "      <td>62,141.00</td>\n",
       "      <td>69,077.00</td>\n",
       "    </tr>\n",
       "    <tr>\n",
       "      <th>4</th>\n",
       "      <td>MATHEMATICS AND STATISTICS.</td>\n",
       "      <td>94.00</td>\n",
       "      <td>57,342.50</td>\n",
       "      <td>56,462.00</td>\n",
       "      <td>58,223.00</td>\n",
       "    </tr>\n",
       "    <tr>\n",
       "      <th>5</th>\n",
       "      <td>BUSINESS, MANAGEMENT, MARKETING, AND RELATED SUPPORT SERVICES.</td>\n",
       "      <td>2,807.00</td>\n",
       "      <td>55,107.69</td>\n",
       "      <td>33,485.00</td>\n",
       "      <td>74,883.00</td>\n",
       "    </tr>\n",
       "    <tr>\n",
       "      <th>6</th>\n",
       "      <td>TRANSPORTATION AND MATERIALS MOVING.</td>\n",
       "      <td>212.00</td>\n",
       "      <td>50,560.50</td>\n",
       "      <td>44,128.00</td>\n",
       "      <td>56,993.00</td>\n",
       "    </tr>\n",
       "    <tr>\n",
       "      <th>7</th>\n",
       "      <td>PHYSICAL SCIENCES.</td>\n",
       "      <td>78.00</td>\n",
       "      <td>50,117.33</td>\n",
       "      <td>38,443.00</td>\n",
       "      <td>65,065.00</td>\n",
       "    </tr>\n",
       "    <tr>\n",
       "      <th>8</th>\n",
       "      <td>COMMUNICATIONS TECHNOLOGIES/TECHNICIANS AND SUPPORT SERVICES.</td>\n",
       "      <td>24.00</td>\n",
       "      <td>48,703.00</td>\n",
       "      <td>48,703.00</td>\n",
       "      <td>48,703.00</td>\n",
       "    </tr>\n",
       "    <tr>\n",
       "      <th>9</th>\n",
       "      <td>HEALTH PROFESSIONS AND RELATED PROGRAMS.</td>\n",
       "      <td>2,074.00</td>\n",
       "      <td>46,428.11</td>\n",
       "      <td>27,319.00</td>\n",
       "      <td>63,701.00</td>\n",
       "    </tr>\n",
       "    <tr>\n",
       "      <th>10</th>\n",
       "      <td>HOMELAND SECURITY, LAW ENFORCEMENT, FIREFIGHTING AND RELATED PROTECTIVE SERVICES.</td>\n",
       "      <td>305.00</td>\n",
       "      <td>44,299.50</td>\n",
       "      <td>36,865.00</td>\n",
       "      <td>56,578.00</td>\n",
       "    </tr>\n",
       "    <tr>\n",
       "      <th>11</th>\n",
       "      <td>ARCHITECTURE AND RELATED SERVICES.</td>\n",
       "      <td>60.00</td>\n",
       "      <td>44,067.50</td>\n",
       "      <td>39,464.00</td>\n",
       "      <td>48,671.00</td>\n",
       "    </tr>\n",
       "    <tr>\n",
       "      <th>12</th>\n",
       "      <td>EDUCATION.</td>\n",
       "      <td>1,295.00</td>\n",
       "      <td>43,397.00</td>\n",
       "      <td>33,949.00</td>\n",
       "      <td>57,508.00</td>\n",
       "    </tr>\n",
       "    <tr>\n",
       "      <th>13</th>\n",
       "      <td>SOCIAL SCIENCES.</td>\n",
       "      <td>953.00</td>\n",
       "      <td>40,257.64</td>\n",
       "      <td>26,905.00</td>\n",
       "      <td>56,599.00</td>\n",
       "    </tr>\n",
       "    <tr>\n",
       "      <th>14</th>\n",
       "      <td>FOREIGN LANGUAGES, LITERATURES, AND LINGUISTICS.</td>\n",
       "      <td>255.00</td>\n",
       "      <td>38,294.57</td>\n",
       "      <td>29,046.00</td>\n",
       "      <td>49,724.00</td>\n",
       "    </tr>\n",
       "    <tr>\n",
       "      <th>15</th>\n",
       "      <td>AGRICULTURAL/ANIMAL/PLANT/VETERINARY SCIENCE AND RELATED FIELDS.</td>\n",
       "      <td>108.00</td>\n",
       "      <td>37,836.50</td>\n",
       "      <td>30,278.00</td>\n",
       "      <td>45,395.00</td>\n",
       "    </tr>\n",
       "    <tr>\n",
       "      <th>16</th>\n",
       "      <td>LIBERAL ARTS AND SCIENCES, GENERAL STUDIES AND HUMANITIES.</td>\n",
       "      <td>291.00</td>\n",
       "      <td>36,959.00</td>\n",
       "      <td>30,086.00</td>\n",
       "      <td>42,698.00</td>\n",
       "    </tr>\n",
       "    <tr>\n",
       "      <th>17</th>\n",
       "      <td>COMMUNICATION, JOURNALISM, AND RELATED PROGRAMS.</td>\n",
       "      <td>900.00</td>\n",
       "      <td>36,397.67</td>\n",
       "      <td>25,858.00</td>\n",
       "      <td>46,269.00</td>\n",
       "    </tr>\n",
       "    <tr>\n",
       "      <th>18</th>\n",
       "      <td>PUBLIC ADMINISTRATION AND SOCIAL SERVICE PROFESSIONS.</td>\n",
       "      <td>213.00</td>\n",
       "      <td>34,515.00</td>\n",
       "      <td>30,124.00</td>\n",
       "      <td>38,055.00</td>\n",
       "    </tr>\n",
       "    <tr>\n",
       "      <th>19</th>\n",
       "      <td>AREA, ETHNIC, CULTURAL, GENDER, AND GROUP STUDIES.</td>\n",
       "      <td>95.00</td>\n",
       "      <td>33,436.50</td>\n",
       "      <td>33,213.00</td>\n",
       "      <td>33,660.00</td>\n",
       "    </tr>\n",
       "    <tr>\n",
       "      <th>20</th>\n",
       "      <td>PARKS, RECREATION, LEISURE, FITNESS, AND KINESIOLOGY.</td>\n",
       "      <td>580.00</td>\n",
       "      <td>32,997.71</td>\n",
       "      <td>23,297.00</td>\n",
       "      <td>45,748.00</td>\n",
       "    </tr>\n",
       "    <tr>\n",
       "      <th>21</th>\n",
       "      <td>MULTI/INTERDISCIPLINARY STUDIES.</td>\n",
       "      <td>152.00</td>\n",
       "      <td>32,400.33</td>\n",
       "      <td>28,338.00</td>\n",
       "      <td>37,755.00</td>\n",
       "    </tr>\n",
       "    <tr>\n",
       "      <th>22</th>\n",
       "      <td>ENGLISH LANGUAGE AND LITERATURE/LETTERS.</td>\n",
       "      <td>423.00</td>\n",
       "      <td>32,389.29</td>\n",
       "      <td>28,928.00</td>\n",
       "      <td>41,726.00</td>\n",
       "    </tr>\n",
       "    <tr>\n",
       "      <th>23</th>\n",
       "      <td>HISTORY.</td>\n",
       "      <td>160.00</td>\n",
       "      <td>31,192.00</td>\n",
       "      <td>28,541.00</td>\n",
       "      <td>33,397.00</td>\n",
       "    </tr>\n",
       "    <tr>\n",
       "      <th>24</th>\n",
       "      <td>PSYCHOLOGY.</td>\n",
       "      <td>1,019.00</td>\n",
       "      <td>29,626.17</td>\n",
       "      <td>24,986.00</td>\n",
       "      <td>32,569.00</td>\n",
       "    </tr>\n",
       "    <tr>\n",
       "      <th>25</th>\n",
       "      <td>BIOLOGICAL AND BIOMEDICAL SCIENCES.</td>\n",
       "      <td>653.00</td>\n",
       "      <td>29,471.78</td>\n",
       "      <td>20,357.00</td>\n",
       "      <td>38,438.00</td>\n",
       "    </tr>\n",
       "    <tr>\n",
       "      <th>26</th>\n",
       "      <td>VISUAL AND PERFORMING ARTS.</td>\n",
       "      <td>765.00</td>\n",
       "      <td>28,146.20</td>\n",
       "      <td>17,223.00</td>\n",
       "      <td>39,217.00</td>\n",
       "    </tr>\n",
       "    <tr>\n",
       "      <th>27</th>\n",
       "      <td>FAMILY AND CONSUMER SCIENCES/HUMAN SCIENCES.</td>\n",
       "      <td>621.00</td>\n",
       "      <td>26,417.86</td>\n",
       "      <td>19,031.00</td>\n",
       "      <td>32,998.00</td>\n",
       "    </tr>\n",
       "  </tbody>\n",
       "</table>\n",
       "</div>"
      ],
      "text/plain": [
       "                                                                              CIPDEF_  \\\n",
       "0                                                                        ENGINEERING.   \n",
       "1                             COMPUTER AND INFORMATION SCIENCES AND SUPPORT SERVICES.   \n",
       "2                                                                CONSTRUCTION TRADES.   \n",
       "3                           ENGINEERING/ENGINEERING-RELATED TECHNOLOGIES/TECHNICIANS.   \n",
       "4                                                         MATHEMATICS AND STATISTICS.   \n",
       "5                      BUSINESS, MANAGEMENT, MARKETING, AND RELATED SUPPORT SERVICES.   \n",
       "6                                                TRANSPORTATION AND MATERIALS MOVING.   \n",
       "7                                                                  PHYSICAL SCIENCES.   \n",
       "8                       COMMUNICATIONS TECHNOLOGIES/TECHNICIANS AND SUPPORT SERVICES.   \n",
       "9                                            HEALTH PROFESSIONS AND RELATED PROGRAMS.   \n",
       "10  HOMELAND SECURITY, LAW ENFORCEMENT, FIREFIGHTING AND RELATED PROTECTIVE SERVICES.   \n",
       "11                                                 ARCHITECTURE AND RELATED SERVICES.   \n",
       "12                                                                         EDUCATION.   \n",
       "13                                                                   SOCIAL SCIENCES.   \n",
       "14                                   FOREIGN LANGUAGES, LITERATURES, AND LINGUISTICS.   \n",
       "15                   AGRICULTURAL/ANIMAL/PLANT/VETERINARY SCIENCE AND RELATED FIELDS.   \n",
       "16                         LIBERAL ARTS AND SCIENCES, GENERAL STUDIES AND HUMANITIES.   \n",
       "17                                   COMMUNICATION, JOURNALISM, AND RELATED PROGRAMS.   \n",
       "18                              PUBLIC ADMINISTRATION AND SOCIAL SERVICE PROFESSIONS.   \n",
       "19                                 AREA, ETHNIC, CULTURAL, GENDER, AND GROUP STUDIES.   \n",
       "20                              PARKS, RECREATION, LEISURE, FITNESS, AND KINESIOLOGY.   \n",
       "21                                                   MULTI/INTERDISCIPLINARY STUDIES.   \n",
       "22                                           ENGLISH LANGUAGE AND LITERATURE/LETTERS.   \n",
       "23                                                                           HISTORY.   \n",
       "24                                                                        PSYCHOLOGY.   \n",
       "25                                                BIOLOGICAL AND BIOMEDICAL SCIENCES.   \n",
       "26                                                        VISUAL AND PERFORMING ARTS.   \n",
       "27                                       FAMILY AND CONSUMER SCIENCES/HUMAN SCIENCES.   \n",
       "\n",
       "    EARN_COUNT_WNE_1YR_sum  EARN_MDN_1YR_mean  EARN_MDN_1YR_min  \\\n",
       "0                 1,053.00          69,412.13         60,203.00   \n",
       "1                 1,047.00          69,317.67         37,101.00   \n",
       "2                    55.00          68,886.00         68,886.00   \n",
       "3                    79.00          65,609.00         62,141.00   \n",
       "4                    94.00          57,342.50         56,462.00   \n",
       "5                 2,807.00          55,107.69         33,485.00   \n",
       "6                   212.00          50,560.50         44,128.00   \n",
       "7                    78.00          50,117.33         38,443.00   \n",
       "8                    24.00          48,703.00         48,703.00   \n",
       "9                 2,074.00          46,428.11         27,319.00   \n",
       "10                  305.00          44,299.50         36,865.00   \n",
       "11                   60.00          44,067.50         39,464.00   \n",
       "12                1,295.00          43,397.00         33,949.00   \n",
       "13                  953.00          40,257.64         26,905.00   \n",
       "14                  255.00          38,294.57         29,046.00   \n",
       "15                  108.00          37,836.50         30,278.00   \n",
       "16                  291.00          36,959.00         30,086.00   \n",
       "17                  900.00          36,397.67         25,858.00   \n",
       "18                  213.00          34,515.00         30,124.00   \n",
       "19                   95.00          33,436.50         33,213.00   \n",
       "20                  580.00          32,997.71         23,297.00   \n",
       "21                  152.00          32,400.33         28,338.00   \n",
       "22                  423.00          32,389.29         28,928.00   \n",
       "23                  160.00          31,192.00         28,541.00   \n",
       "24                1,019.00          29,626.17         24,986.00   \n",
       "25                  653.00          29,471.78         20,357.00   \n",
       "26                  765.00          28,146.20         17,223.00   \n",
       "27                  621.00          26,417.86         19,031.00   \n",
       "\n",
       "    EARN_MDN_1YR_max  \n",
       "0          82,864.00  \n",
       "1          86,469.00  \n",
       "2          68,886.00  \n",
       "3          69,077.00  \n",
       "4          58,223.00  \n",
       "5          74,883.00  \n",
       "6          56,993.00  \n",
       "7          65,065.00  \n",
       "8          48,703.00  \n",
       "9          63,701.00  \n",
       "10         56,578.00  \n",
       "11         48,671.00  \n",
       "12         57,508.00  \n",
       "13         56,599.00  \n",
       "14         49,724.00  \n",
       "15         45,395.00  \n",
       "16         42,698.00  \n",
       "17         46,269.00  \n",
       "18         38,055.00  \n",
       "19         33,660.00  \n",
       "20         45,748.00  \n",
       "21         37,755.00  \n",
       "22         41,726.00  \n",
       "23         33,397.00  \n",
       "24         32,569.00  \n",
       "25         38,438.00  \n",
       "26         39,217.00  \n",
       "27         32,998.00  "
      ]
     },
     "execution_count": 63,
     "metadata": {},
     "output_type": "execute_result"
    }
   ],
   "source": [
    "# Group earnings for each field of study (summary of all programs with public record)\n",
    "field_1yr_stats = df.groupby('CIPDEF').agg({'EARN_COUNT_WNE_1YR': 'sum','EARN_MDN_1YR': ['mean', 'min', 'max']}).reset_index()\n",
    "field_1yr_stats.columns = ['_'.join(col).strip() for col in field_1yr_stats.columns.values] # remove MultiIndex column\n",
    "field_1yr_stats = field_1yr_stats.sort_values(by='EARN_MDN_1YR_mean', ascending=False).reset_index(drop=True)\n",
    "\n",
    "with pd.ExcelWriter(\"Data/earnings_tables.xlsx\", mode='a', engine='openpyxl', if_sheet_exists='replace') as writer:\n",
    "    field_1yr_stats.to_excel(writer, sheet_name='field_1yr_stats', index=False)\n",
    "\n",
    "field_1yr_stats"
   ]
  },
  {
   "cell_type": "code",
   "execution_count": 64,
   "metadata": {},
   "outputs": [
    {
     "data": {
      "text/html": [
       "<div>\n",
       "<style scoped>\n",
       "    .dataframe tbody tr th:only-of-type {\n",
       "        vertical-align: middle;\n",
       "    }\n",
       "\n",
       "    .dataframe tbody tr th {\n",
       "        vertical-align: top;\n",
       "    }\n",
       "\n",
       "    .dataframe thead th {\n",
       "        text-align: right;\n",
       "    }\n",
       "</style>\n",
       "<table border=\"1\" class=\"dataframe\">\n",
       "  <thead>\n",
       "    <tr style=\"text-align: right;\">\n",
       "      <th></th>\n",
       "      <th>CIPDEF_</th>\n",
       "      <th>EARN_COUNT_WNE_4YR_sum</th>\n",
       "      <th>EARN_MDN_4YR_mean</th>\n",
       "      <th>EARN_MDN_4YR_min</th>\n",
       "      <th>EARN_MDN_4YR_max</th>\n",
       "    </tr>\n",
       "  </thead>\n",
       "  <tbody>\n",
       "    <tr>\n",
       "      <th>0</th>\n",
       "      <td>COMPUTER AND INFORMATION SCIENCES AND SUPPORT SERVICES.</td>\n",
       "      <td>826.00</td>\n",
       "      <td>88,258.00</td>\n",
       "      <td>48,538.00</td>\n",
       "      <td>114,046.00</td>\n",
       "    </tr>\n",
       "    <tr>\n",
       "      <th>1</th>\n",
       "      <td>ENGINEERING.</td>\n",
       "      <td>855.00</td>\n",
       "      <td>87,750.60</td>\n",
       "      <td>73,089.00</td>\n",
       "      <td>127,592.00</td>\n",
       "    </tr>\n",
       "    <tr>\n",
       "      <th>2</th>\n",
       "      <td>MATHEMATICS AND STATISTICS.</td>\n",
       "      <td>59.00</td>\n",
       "      <td>79,298.00</td>\n",
       "      <td>69,595.00</td>\n",
       "      <td>89,001.00</td>\n",
       "    </tr>\n",
       "    <tr>\n",
       "      <th>3</th>\n",
       "      <td>CONSTRUCTION TRADES.</td>\n",
       "      <td>37.00</td>\n",
       "      <td>78,807.00</td>\n",
       "      <td>78,807.00</td>\n",
       "      <td>78,807.00</td>\n",
       "    </tr>\n",
       "    <tr>\n",
       "      <th>4</th>\n",
       "      <td>ENGINEERING/ENGINEERING-RELATED TECHNOLOGIES/TECHNICIANS.</td>\n",
       "      <td>104.00</td>\n",
       "      <td>78,380.50</td>\n",
       "      <td>72,469.00</td>\n",
       "      <td>84,292.00</td>\n",
       "    </tr>\n",
       "    <tr>\n",
       "      <th>5</th>\n",
       "      <td>COMMUNICATIONS TECHNOLOGIES/TECHNICIANS AND SUPPORT SERVICES.</td>\n",
       "      <td>23.00</td>\n",
       "      <td>74,650.00</td>\n",
       "      <td>74,650.00</td>\n",
       "      <td>74,650.00</td>\n",
       "    </tr>\n",
       "    <tr>\n",
       "      <th>6</th>\n",
       "      <td>BUSINESS, MANAGEMENT, MARKETING, AND RELATED SUPPORT SERVICES.</td>\n",
       "      <td>2,427.00</td>\n",
       "      <td>72,721.94</td>\n",
       "      <td>50,174.00</td>\n",
       "      <td>97,349.00</td>\n",
       "    </tr>\n",
       "    <tr>\n",
       "      <th>7</th>\n",
       "      <td>TRANSPORTATION AND MATERIALS MOVING.</td>\n",
       "      <td>230.00</td>\n",
       "      <td>70,107.50</td>\n",
       "      <td>59,224.00</td>\n",
       "      <td>80,991.00</td>\n",
       "    </tr>\n",
       "    <tr>\n",
       "      <th>8</th>\n",
       "      <td>PHYSICAL SCIENCES.</td>\n",
       "      <td>59.00</td>\n",
       "      <td>69,189.33</td>\n",
       "      <td>61,624.00</td>\n",
       "      <td>76,268.00</td>\n",
       "    </tr>\n",
       "    <tr>\n",
       "      <th>9</th>\n",
       "      <td>ARCHITECTURE AND RELATED SERVICES.</td>\n",
       "      <td>45.00</td>\n",
       "      <td>62,267.00</td>\n",
       "      <td>61,739.00</td>\n",
       "      <td>62,795.00</td>\n",
       "    </tr>\n",
       "    <tr>\n",
       "      <th>10</th>\n",
       "      <td>SOCIAL SCIENCES.</td>\n",
       "      <td>729.00</td>\n",
       "      <td>56,863.71</td>\n",
       "      <td>30,608.00</td>\n",
       "      <td>81,529.00</td>\n",
       "    </tr>\n",
       "    <tr>\n",
       "      <th>11</th>\n",
       "      <td>HOMELAND SECURITY, LAW ENFORCEMENT, FIREFIGHTING AND RELATED PROTECTIVE SERVICES.</td>\n",
       "      <td>381.00</td>\n",
       "      <td>55,988.75</td>\n",
       "      <td>43,401.00</td>\n",
       "      <td>70,785.00</td>\n",
       "    </tr>\n",
       "    <tr>\n",
       "      <th>12</th>\n",
       "      <td>BIOLOGICAL AND BIOMEDICAL SCIENCES.</td>\n",
       "      <td>468.00</td>\n",
       "      <td>54,691.33</td>\n",
       "      <td>35,147.00</td>\n",
       "      <td>73,566.00</td>\n",
       "    </tr>\n",
       "    <tr>\n",
       "      <th>13</th>\n",
       "      <td>FOREIGN LANGUAGES, LITERATURES, AND LINGUISTICS.</td>\n",
       "      <td>291.00</td>\n",
       "      <td>53,570.57</td>\n",
       "      <td>33,074.00</td>\n",
       "      <td>66,679.00</td>\n",
       "    </tr>\n",
       "    <tr>\n",
       "      <th>14</th>\n",
       "      <td>HEALTH PROFESSIONS AND RELATED PROGRAMS.</td>\n",
       "      <td>1,681.00</td>\n",
       "      <td>52,063.72</td>\n",
       "      <td>23,498.00</td>\n",
       "      <td>68,640.00</td>\n",
       "    </tr>\n",
       "    <tr>\n",
       "      <th>15</th>\n",
       "      <td>AREA, ETHNIC, CULTURAL, GENDER, AND GROUP STUDIES.</td>\n",
       "      <td>87.00</td>\n",
       "      <td>50,107.00</td>\n",
       "      <td>44,503.00</td>\n",
       "      <td>55,711.00</td>\n",
       "    </tr>\n",
       "    <tr>\n",
       "      <th>16</th>\n",
       "      <td>COMMUNICATION, JOURNALISM, AND RELATED PROGRAMS.</td>\n",
       "      <td>664.00</td>\n",
       "      <td>49,233.00</td>\n",
       "      <td>42,911.00</td>\n",
       "      <td>58,056.00</td>\n",
       "    </tr>\n",
       "    <tr>\n",
       "      <th>17</th>\n",
       "      <td>AGRICULTURAL/ANIMAL/PLANT/VETERINARY SCIENCE AND RELATED FIELDS.</td>\n",
       "      <td>64.00</td>\n",
       "      <td>47,654.50</td>\n",
       "      <td>38,971.00</td>\n",
       "      <td>56,338.00</td>\n",
       "    </tr>\n",
       "    <tr>\n",
       "      <th>18</th>\n",
       "      <td>MULTI/INTERDISCIPLINARY STUDIES.</td>\n",
       "      <td>196.00</td>\n",
       "      <td>46,442.00</td>\n",
       "      <td>39,623.00</td>\n",
       "      <td>56,942.00</td>\n",
       "    </tr>\n",
       "    <tr>\n",
       "      <th>19</th>\n",
       "      <td>PUBLIC ADMINISTRATION AND SOCIAL SERVICE PROFESSIONS.</td>\n",
       "      <td>244.00</td>\n",
       "      <td>45,043.00</td>\n",
       "      <td>39,435.00</td>\n",
       "      <td>47,214.00</td>\n",
       "    </tr>\n",
       "    <tr>\n",
       "      <th>20</th>\n",
       "      <td>EDUCATION.</td>\n",
       "      <td>1,189.00</td>\n",
       "      <td>44,786.85</td>\n",
       "      <td>36,162.00</td>\n",
       "      <td>49,647.00</td>\n",
       "    </tr>\n",
       "    <tr>\n",
       "      <th>21</th>\n",
       "      <td>LIBERAL ARTS AND SCIENCES, GENERAL STUDIES AND HUMANITIES.</td>\n",
       "      <td>256.00</td>\n",
       "      <td>44,328.25</td>\n",
       "      <td>32,839.00</td>\n",
       "      <td>51,593.00</td>\n",
       "    </tr>\n",
       "    <tr>\n",
       "      <th>22</th>\n",
       "      <td>HISTORY.</td>\n",
       "      <td>140.00</td>\n",
       "      <td>43,957.00</td>\n",
       "      <td>36,231.00</td>\n",
       "      <td>54,987.00</td>\n",
       "    </tr>\n",
       "    <tr>\n",
       "      <th>23</th>\n",
       "      <td>PARKS, RECREATION, LEISURE, FITNESS, AND KINESIOLOGY.</td>\n",
       "      <td>347.00</td>\n",
       "      <td>42,995.57</td>\n",
       "      <td>25,700.00</td>\n",
       "      <td>56,514.00</td>\n",
       "    </tr>\n",
       "    <tr>\n",
       "      <th>24</th>\n",
       "      <td>ENGLISH LANGUAGE AND LITERATURE/LETTERS.</td>\n",
       "      <td>419.00</td>\n",
       "      <td>42,187.71</td>\n",
       "      <td>38,592.00</td>\n",
       "      <td>46,995.00</td>\n",
       "    </tr>\n",
       "    <tr>\n",
       "      <th>25</th>\n",
       "      <td>PSYCHOLOGY.</td>\n",
       "      <td>693.00</td>\n",
       "      <td>39,981.00</td>\n",
       "      <td>31,561.00</td>\n",
       "      <td>44,664.00</td>\n",
       "    </tr>\n",
       "    <tr>\n",
       "      <th>26</th>\n",
       "      <td>VISUAL AND PERFORMING ARTS.</td>\n",
       "      <td>628.00</td>\n",
       "      <td>35,614.53</td>\n",
       "      <td>16,331.00</td>\n",
       "      <td>47,300.00</td>\n",
       "    </tr>\n",
       "    <tr>\n",
       "      <th>27</th>\n",
       "      <td>FAMILY AND CONSUMER SCIENCES/HUMAN SCIENCES.</td>\n",
       "      <td>425.00</td>\n",
       "      <td>34,970.86</td>\n",
       "      <td>24,823.00</td>\n",
       "      <td>44,984.00</td>\n",
       "    </tr>\n",
       "  </tbody>\n",
       "</table>\n",
       "</div>"
      ],
      "text/plain": [
       "                                                                              CIPDEF_  \\\n",
       "0                             COMPUTER AND INFORMATION SCIENCES AND SUPPORT SERVICES.   \n",
       "1                                                                        ENGINEERING.   \n",
       "2                                                         MATHEMATICS AND STATISTICS.   \n",
       "3                                                                CONSTRUCTION TRADES.   \n",
       "4                           ENGINEERING/ENGINEERING-RELATED TECHNOLOGIES/TECHNICIANS.   \n",
       "5                       COMMUNICATIONS TECHNOLOGIES/TECHNICIANS AND SUPPORT SERVICES.   \n",
       "6                      BUSINESS, MANAGEMENT, MARKETING, AND RELATED SUPPORT SERVICES.   \n",
       "7                                                TRANSPORTATION AND MATERIALS MOVING.   \n",
       "8                                                                  PHYSICAL SCIENCES.   \n",
       "9                                                  ARCHITECTURE AND RELATED SERVICES.   \n",
       "10                                                                   SOCIAL SCIENCES.   \n",
       "11  HOMELAND SECURITY, LAW ENFORCEMENT, FIREFIGHTING AND RELATED PROTECTIVE SERVICES.   \n",
       "12                                                BIOLOGICAL AND BIOMEDICAL SCIENCES.   \n",
       "13                                   FOREIGN LANGUAGES, LITERATURES, AND LINGUISTICS.   \n",
       "14                                           HEALTH PROFESSIONS AND RELATED PROGRAMS.   \n",
       "15                                 AREA, ETHNIC, CULTURAL, GENDER, AND GROUP STUDIES.   \n",
       "16                                   COMMUNICATION, JOURNALISM, AND RELATED PROGRAMS.   \n",
       "17                   AGRICULTURAL/ANIMAL/PLANT/VETERINARY SCIENCE AND RELATED FIELDS.   \n",
       "18                                                   MULTI/INTERDISCIPLINARY STUDIES.   \n",
       "19                              PUBLIC ADMINISTRATION AND SOCIAL SERVICE PROFESSIONS.   \n",
       "20                                                                         EDUCATION.   \n",
       "21                         LIBERAL ARTS AND SCIENCES, GENERAL STUDIES AND HUMANITIES.   \n",
       "22                                                                           HISTORY.   \n",
       "23                              PARKS, RECREATION, LEISURE, FITNESS, AND KINESIOLOGY.   \n",
       "24                                           ENGLISH LANGUAGE AND LITERATURE/LETTERS.   \n",
       "25                                                                        PSYCHOLOGY.   \n",
       "26                                                        VISUAL AND PERFORMING ARTS.   \n",
       "27                                       FAMILY AND CONSUMER SCIENCES/HUMAN SCIENCES.   \n",
       "\n",
       "    EARN_COUNT_WNE_4YR_sum  EARN_MDN_4YR_mean  EARN_MDN_4YR_min  \\\n",
       "0                   826.00          88,258.00         48,538.00   \n",
       "1                   855.00          87,750.60         73,089.00   \n",
       "2                    59.00          79,298.00         69,595.00   \n",
       "3                    37.00          78,807.00         78,807.00   \n",
       "4                   104.00          78,380.50         72,469.00   \n",
       "5                    23.00          74,650.00         74,650.00   \n",
       "6                 2,427.00          72,721.94         50,174.00   \n",
       "7                   230.00          70,107.50         59,224.00   \n",
       "8                    59.00          69,189.33         61,624.00   \n",
       "9                    45.00          62,267.00         61,739.00   \n",
       "10                  729.00          56,863.71         30,608.00   \n",
       "11                  381.00          55,988.75         43,401.00   \n",
       "12                  468.00          54,691.33         35,147.00   \n",
       "13                  291.00          53,570.57         33,074.00   \n",
       "14                1,681.00          52,063.72         23,498.00   \n",
       "15                   87.00          50,107.00         44,503.00   \n",
       "16                  664.00          49,233.00         42,911.00   \n",
       "17                   64.00          47,654.50         38,971.00   \n",
       "18                  196.00          46,442.00         39,623.00   \n",
       "19                  244.00          45,043.00         39,435.00   \n",
       "20                1,189.00          44,786.85         36,162.00   \n",
       "21                  256.00          44,328.25         32,839.00   \n",
       "22                  140.00          43,957.00         36,231.00   \n",
       "23                  347.00          42,995.57         25,700.00   \n",
       "24                  419.00          42,187.71         38,592.00   \n",
       "25                  693.00          39,981.00         31,561.00   \n",
       "26                  628.00          35,614.53         16,331.00   \n",
       "27                  425.00          34,970.86         24,823.00   \n",
       "\n",
       "    EARN_MDN_4YR_max  \n",
       "0         114,046.00  \n",
       "1         127,592.00  \n",
       "2          89,001.00  \n",
       "3          78,807.00  \n",
       "4          84,292.00  \n",
       "5          74,650.00  \n",
       "6          97,349.00  \n",
       "7          80,991.00  \n",
       "8          76,268.00  \n",
       "9          62,795.00  \n",
       "10         81,529.00  \n",
       "11         70,785.00  \n",
       "12         73,566.00  \n",
       "13         66,679.00  \n",
       "14         68,640.00  \n",
       "15         55,711.00  \n",
       "16         58,056.00  \n",
       "17         56,338.00  \n",
       "18         56,942.00  \n",
       "19         47,214.00  \n",
       "20         49,647.00  \n",
       "21         51,593.00  \n",
       "22         54,987.00  \n",
       "23         56,514.00  \n",
       "24         46,995.00  \n",
       "25         44,664.00  \n",
       "26         47,300.00  \n",
       "27         44,984.00  "
      ]
     },
     "execution_count": 64,
     "metadata": {},
     "output_type": "execute_result"
    }
   ],
   "source": [
    "# Group earnings for each field of study (summary of all programs with public record)\n",
    "field_4yr_stats = df.groupby('CIPDEF').agg({'EARN_COUNT_WNE_4YR': 'sum','EARN_MDN_4YR': ['mean', 'min', 'max']}).reset_index()\n",
    "field_4yr_stats.columns = ['_'.join(col).strip() for col in field_4yr_stats.columns.values] # remove MultiIndex column\n",
    "field_4yr_stats = field_4yr_stats.sort_values(by=('EARN_MDN_4YR_mean'), ascending=False).reset_index(drop=True)\n",
    "\n",
    "with pd.ExcelWriter(\"Data/earnings_tables.xlsx\", mode='a', engine='openpyxl', if_sheet_exists='replace') as writer:\n",
    "    field_4yr_stats.to_excel(writer, sheet_name='field_4yr_stats', index=False)\n",
    "\n",
    "field_4yr_stats"
   ]
  },
  {
   "cell_type": "markdown",
   "metadata": {},
   "source": [
    "## Visualize Field of Study Data"
   ]
  },
  {
   "cell_type": "code",
   "execution_count": 80,
   "metadata": {},
   "outputs": [
    {
     "data": {
      "application/vnd.plotly.v1+json": {
       "config": {
        "plotlyServerURL": "https://plot.ly"
       },
       "data": [
        {
         "box": {
          "visible": true
         },
         "meanline": {
          "visible": true
         },
         "name": "05",
         "showlegend": false,
         "type": "violin",
         "x": [
          "05",
          "05"
         ],
         "y": [
          55711,
          44503
         ]
        },
        {
         "box": {
          "visible": true
         },
         "meanline": {
          "visible": true
         },
         "name": "09",
         "showlegend": false,
         "type": "violin",
         "x": [
          "09",
          "09",
          "09",
          "09",
          "09",
          "09",
          "09",
          "09",
          "09"
         ],
         "y": [
          43349,
          58056,
          43818,
          42911,
          53112,
          51811,
          53623,
          45678,
          50739
         ]
        },
        {
         "box": {
          "visible": true
         },
         "meanline": {
          "visible": true
         },
         "name": "10",
         "showlegend": false,
         "type": "violin",
         "x": [
          "10"
         ],
         "y": [
          74650
         ]
        },
        {
         "box": {
          "visible": true
         },
         "meanline": {
          "visible": true
         },
         "name": "11",
         "showlegend": false,
         "type": "violin",
         "x": [
          "11",
          "11",
          "11",
          "11",
          "11",
          "11",
          "11",
          "11",
          "11",
          "11",
          "11",
          "11"
         ],
         "y": [
          102563,
          114046,
          91862,
          78628,
          86824,
          103513,
          48538,
          75474,
          90312,
          99562,
          77800,
          89974
         ]
        },
        {
         "box": {
          "visible": true
         },
         "meanline": {
          "visible": true
         },
         "name": "13",
         "showlegend": false,
         "type": "violin",
         "x": [
          "13",
          "13",
          "13",
          "13",
          "13",
          "13",
          "13",
          "13",
          "13",
          "13",
          "13",
          "13",
          "13"
         ],
         "y": [
          36162,
          36968,
          41473,
          46941,
          48318,
          49647,
          45267,
          48047,
          44873,
          47169,
          47204,
          44408,
          45752
         ]
        },
        {
         "box": {
          "visible": true
         },
         "meanline": {
          "visible": true
         },
         "name": "14",
         "showlegend": false,
         "type": "violin",
         "x": [
          "14",
          "14",
          "14",
          "14",
          "14",
          "14",
          "14",
          "14",
          "14",
          "14",
          "14",
          "14",
          "14",
          "14",
          "14"
         ],
         "y": [
          99093,
          73327,
          127592,
          95202,
          87666,
          80317,
          75925,
          87163,
          77504,
          91846,
          93547,
          80643,
          73089,
          93865,
          79480
         ]
        },
        {
         "box": {
          "visible": true
         },
         "meanline": {
          "visible": true
         },
         "name": "16",
         "showlegend": false,
         "type": "violin",
         "x": [
          "16",
          "16",
          "16",
          "16",
          "16",
          "16",
          "16"
         ],
         "y": [
          50095,
          66679,
          61951,
          57396,
          33074,
          49166,
          56633
         ]
        },
        {
         "box": {
          "visible": true
         },
         "meanline": {
          "visible": true
         },
         "name": "19",
         "showlegend": false,
         "type": "violin",
         "x": [
          "19",
          "19",
          "19",
          "19",
          "19",
          "19",
          "19"
         ],
         "y": [
          24823,
          34561,
          36054,
          44984,
          27114,
          41041,
          36219
         ]
        },
        {
         "box": {
          "visible": true
         },
         "meanline": {
          "visible": true
         },
         "name": "23",
         "showlegend": false,
         "type": "violin",
         "x": [
          "23",
          "23",
          "23",
          "23",
          "23",
          "23",
          "23"
         ],
         "y": [
          42838,
          41372,
          46995,
          38592,
          44957,
          39889,
          40671
         ]
        },
        {
         "box": {
          "visible": true
         },
         "meanline": {
          "visible": true
         },
         "name": "26",
         "showlegend": false,
         "type": "violin",
         "x": [
          "26",
          "26",
          "26",
          "26",
          "26",
          "26",
          "26",
          "26",
          "26"
         ],
         "y": [
          60978,
          50091,
          73566,
          42285,
          61607,
          61611,
          51081,
          55856,
          35147
         ]
        },
        {
         "box": {
          "visible": true
         },
         "meanline": {
          "visible": true
         },
         "name": "27",
         "showlegend": false,
         "type": "violin",
         "x": [
          "27",
          "27"
         ],
         "y": [
          89001,
          69595
         ]
        },
        {
         "box": {
          "visible": true
         },
         "meanline": {
          "visible": true
         },
         "name": "31",
         "showlegend": false,
         "type": "violin",
         "x": [
          "31",
          "31",
          "31",
          "31",
          "31",
          "31",
          "31"
         ],
         "y": [
          51688,
          25700,
          37883,
          56514,
          42364,
          52242,
          34578
         ]
        },
        {
         "box": {
          "visible": true
         },
         "meanline": {
          "visible": true
         },
         "name": "40",
         "showlegend": false,
         "type": "violin",
         "x": [
          "40",
          "40",
          "40"
         ],
         "y": [
          76268,
          61624,
          69676
         ]
        },
        {
         "box": {
          "visible": true
         },
         "meanline": {
          "visible": true
         },
         "name": "42",
         "showlegend": false,
         "type": "violin",
         "x": [
          "42",
          "42",
          "42",
          "42",
          "42",
          "42"
         ],
         "y": [
          44664,
          31561,
          41237,
          40516,
          42396,
          39512
         ]
        },
        {
         "box": {
          "visible": true
         },
         "meanline": {
          "visible": true
         },
         "name": "45",
         "showlegend": false,
         "type": "violin",
         "x": [
          "45",
          "45",
          "45",
          "45",
          "45",
          "45",
          "45",
          "45",
          "45",
          "45",
          "45",
          "45",
          "45",
          "45"
         ],
         "y": [
          81529,
          49878,
          75656,
          67496,
          48204,
          30608,
          73167,
          52129,
          41332,
          69589,
          37854,
          68470,
          52856,
          47324
         ]
        },
        {
         "box": {
          "visible": true
         },
         "meanline": {
          "visible": true
         },
         "name": "50",
         "showlegend": false,
         "type": "violin",
         "x": [
          "50",
          "50",
          "50",
          "50",
          "50",
          "50",
          "50",
          "50",
          "50",
          "50",
          "50",
          "50",
          "50",
          "50",
          "50"
         ],
         "y": [
          46179,
          28358,
          44182,
          36204,
          32723,
          25367,
          31040,
          35642,
          44117,
          31525,
          16331,
          37398,
          47300,
          45382,
          32470
         ]
        },
        {
         "box": {
          "visible": true
         },
         "meanline": {
          "visible": true
         },
         "name": "51",
         "showlegend": false,
         "type": "violin",
         "x": [
          "51",
          "51",
          "51",
          "51",
          "51",
          "51",
          "51",
          "51",
          "51",
          "51",
          "51",
          "51",
          "51",
          "51",
          "51",
          "51",
          "51",
          "51"
         ],
         "y": [
          38613,
          54880,
          44870,
          23498,
          47274,
          62156,
          50790,
          36029,
          65009,
          56703,
          66109,
          34952,
          58965,
          60396,
          68640,
          36698,
          64121,
          67444
         ]
        },
        {
         "box": {
          "visible": true
         },
         "meanline": {
          "visible": true
         },
         "name": "52",
         "showlegend": false,
         "type": "violin",
         "x": [
          "52",
          "52",
          "52",
          "52",
          "52",
          "52",
          "52",
          "52",
          "52",
          "52",
          "52",
          "52",
          "52",
          "52",
          "52",
          "52",
          "52",
          "52",
          "52",
          "52",
          "52",
          "52",
          "52",
          "52",
          "52",
          "52",
          "52",
          "52",
          "52",
          "52",
          "52",
          "52"
         ],
         "y": [
          96358,
          84993,
          97349,
          58082,
          96161,
          71748,
          83366,
          88304,
          61481,
          50623,
          64575,
          71538,
          69741,
          67969,
          71749,
          65175,
          83180,
          50174,
          66493,
          72856,
          73543,
          90829,
          68614,
          72851,
          66810,
          70831,
          62854,
          88600,
          64054,
          69521,
          64060,
          62620
         ]
        },
        {
         "box": {
          "visible": true
         },
         "meanline": {
          "visible": true
         },
         "name": "54",
         "showlegend": false,
         "type": "violin",
         "x": [
          "54",
          "54",
          "54",
          "54"
         ],
         "y": [
          54987,
          37218,
          36231,
          47392
         ]
        },
        {
         "box": {
          "visible": true
         },
         "meanline": {
          "visible": true
         },
         "name": "24",
         "showlegend": false,
         "type": "violin",
         "x": [
          "24",
          "24",
          "24",
          "24"
         ],
         "y": [
          32839,
          42982,
          49899,
          51593
         ]
        },
        {
         "box": {
          "visible": true
         },
         "meanline": {
          "visible": true
         },
         "name": "43",
         "showlegend": false,
         "type": "violin",
         "x": [
          "43",
          "43",
          "43",
          "43"
         ],
         "y": [
          43401,
          56791,
          70785,
          52978
         ]
        },
        {
         "box": {
          "visible": true
         },
         "meanline": {
          "visible": true
         },
         "name": "01",
         "showlegend": false,
         "type": "violin",
         "x": [
          "01",
          "01"
         ],
         "y": [
          56338,
          38971
         ]
        },
        {
         "box": {
          "visible": true
         },
         "meanline": {
          "visible": true
         },
         "name": "04",
         "showlegend": false,
         "type": "violin",
         "x": [
          "04",
          "04"
         ],
         "y": [
          61739,
          62795
         ]
        },
        {
         "box": {
          "visible": true
         },
         "meanline": {
          "visible": true
         },
         "name": "30",
         "showlegend": false,
         "type": "violin",
         "x": [
          "30",
          "30",
          "30"
         ],
         "y": [
          39623,
          42761,
          56942
         ]
        },
        {
         "box": {
          "visible": true
         },
         "meanline": {
          "visible": true
         },
         "name": "44",
         "showlegend": false,
         "type": "violin",
         "x": [
          "44",
          "44",
          "44",
          "44"
         ],
         "y": [
          39435,
          47214,
          47108,
          46415
         ]
        },
        {
         "box": {
          "visible": true
         },
         "meanline": {
          "visible": true
         },
         "name": "46",
         "showlegend": false,
         "type": "violin",
         "x": [
          "46"
         ],
         "y": [
          78807
         ]
        },
        {
         "box": {
          "visible": true
         },
         "meanline": {
          "visible": true
         },
         "name": "49",
         "showlegend": false,
         "type": "violin",
         "x": [
          "49",
          "49"
         ],
         "y": [
          80991,
          59224
         ]
        },
        {
         "box": {
          "visible": true
         },
         "meanline": {
          "visible": true
         },
         "name": "15",
         "showlegend": false,
         "type": "violin",
         "x": [
          "15",
          "15"
         ],
         "y": [
          84292,
          72469
         ]
        }
       ],
       "layout": {
        "font": {
         "color": "RebeccaPurple",
         "family": "Courier New, monospace",
         "size": 10
        },
        "template": {
         "data": {
          "bar": [
           {
            "error_x": {
             "color": "#2a3f5f"
            },
            "error_y": {
             "color": "#2a3f5f"
            },
            "marker": {
             "line": {
              "color": "#E5ECF6",
              "width": 0.5
             },
             "pattern": {
              "fillmode": "overlay",
              "size": 10,
              "solidity": 0.2
             }
            },
            "type": "bar"
           }
          ],
          "barpolar": [
           {
            "marker": {
             "line": {
              "color": "#E5ECF6",
              "width": 0.5
             },
             "pattern": {
              "fillmode": "overlay",
              "size": 10,
              "solidity": 0.2
             }
            },
            "type": "barpolar"
           }
          ],
          "carpet": [
           {
            "aaxis": {
             "endlinecolor": "#2a3f5f",
             "gridcolor": "white",
             "linecolor": "white",
             "minorgridcolor": "white",
             "startlinecolor": "#2a3f5f"
            },
            "baxis": {
             "endlinecolor": "#2a3f5f",
             "gridcolor": "white",
             "linecolor": "white",
             "minorgridcolor": "white",
             "startlinecolor": "#2a3f5f"
            },
            "type": "carpet"
           }
          ],
          "choropleth": [
           {
            "colorbar": {
             "outlinewidth": 0,
             "ticks": ""
            },
            "type": "choropleth"
           }
          ],
          "contour": [
           {
            "colorbar": {
             "outlinewidth": 0,
             "ticks": ""
            },
            "colorscale": [
             [
              0,
              "#0d0887"
             ],
             [
              0.1111111111111111,
              "#46039f"
             ],
             [
              0.2222222222222222,
              "#7201a8"
             ],
             [
              0.3333333333333333,
              "#9c179e"
             ],
             [
              0.4444444444444444,
              "#bd3786"
             ],
             [
              0.5555555555555556,
              "#d8576b"
             ],
             [
              0.6666666666666666,
              "#ed7953"
             ],
             [
              0.7777777777777778,
              "#fb9f3a"
             ],
             [
              0.8888888888888888,
              "#fdca26"
             ],
             [
              1,
              "#f0f921"
             ]
            ],
            "type": "contour"
           }
          ],
          "contourcarpet": [
           {
            "colorbar": {
             "outlinewidth": 0,
             "ticks": ""
            },
            "type": "contourcarpet"
           }
          ],
          "heatmap": [
           {
            "colorbar": {
             "outlinewidth": 0,
             "ticks": ""
            },
            "colorscale": [
             [
              0,
              "#0d0887"
             ],
             [
              0.1111111111111111,
              "#46039f"
             ],
             [
              0.2222222222222222,
              "#7201a8"
             ],
             [
              0.3333333333333333,
              "#9c179e"
             ],
             [
              0.4444444444444444,
              "#bd3786"
             ],
             [
              0.5555555555555556,
              "#d8576b"
             ],
             [
              0.6666666666666666,
              "#ed7953"
             ],
             [
              0.7777777777777778,
              "#fb9f3a"
             ],
             [
              0.8888888888888888,
              "#fdca26"
             ],
             [
              1,
              "#f0f921"
             ]
            ],
            "type": "heatmap"
           }
          ],
          "heatmapgl": [
           {
            "colorbar": {
             "outlinewidth": 0,
             "ticks": ""
            },
            "colorscale": [
             [
              0,
              "#0d0887"
             ],
             [
              0.1111111111111111,
              "#46039f"
             ],
             [
              0.2222222222222222,
              "#7201a8"
             ],
             [
              0.3333333333333333,
              "#9c179e"
             ],
             [
              0.4444444444444444,
              "#bd3786"
             ],
             [
              0.5555555555555556,
              "#d8576b"
             ],
             [
              0.6666666666666666,
              "#ed7953"
             ],
             [
              0.7777777777777778,
              "#fb9f3a"
             ],
             [
              0.8888888888888888,
              "#fdca26"
             ],
             [
              1,
              "#f0f921"
             ]
            ],
            "type": "heatmapgl"
           }
          ],
          "histogram": [
           {
            "marker": {
             "pattern": {
              "fillmode": "overlay",
              "size": 10,
              "solidity": 0.2
             }
            },
            "type": "histogram"
           }
          ],
          "histogram2d": [
           {
            "colorbar": {
             "outlinewidth": 0,
             "ticks": ""
            },
            "colorscale": [
             [
              0,
              "#0d0887"
             ],
             [
              0.1111111111111111,
              "#46039f"
             ],
             [
              0.2222222222222222,
              "#7201a8"
             ],
             [
              0.3333333333333333,
              "#9c179e"
             ],
             [
              0.4444444444444444,
              "#bd3786"
             ],
             [
              0.5555555555555556,
              "#d8576b"
             ],
             [
              0.6666666666666666,
              "#ed7953"
             ],
             [
              0.7777777777777778,
              "#fb9f3a"
             ],
             [
              0.8888888888888888,
              "#fdca26"
             ],
             [
              1,
              "#f0f921"
             ]
            ],
            "type": "histogram2d"
           }
          ],
          "histogram2dcontour": [
           {
            "colorbar": {
             "outlinewidth": 0,
             "ticks": ""
            },
            "colorscale": [
             [
              0,
              "#0d0887"
             ],
             [
              0.1111111111111111,
              "#46039f"
             ],
             [
              0.2222222222222222,
              "#7201a8"
             ],
             [
              0.3333333333333333,
              "#9c179e"
             ],
             [
              0.4444444444444444,
              "#bd3786"
             ],
             [
              0.5555555555555556,
              "#d8576b"
             ],
             [
              0.6666666666666666,
              "#ed7953"
             ],
             [
              0.7777777777777778,
              "#fb9f3a"
             ],
             [
              0.8888888888888888,
              "#fdca26"
             ],
             [
              1,
              "#f0f921"
             ]
            ],
            "type": "histogram2dcontour"
           }
          ],
          "mesh3d": [
           {
            "colorbar": {
             "outlinewidth": 0,
             "ticks": ""
            },
            "type": "mesh3d"
           }
          ],
          "parcoords": [
           {
            "line": {
             "colorbar": {
              "outlinewidth": 0,
              "ticks": ""
             }
            },
            "type": "parcoords"
           }
          ],
          "pie": [
           {
            "automargin": true,
            "type": "pie"
           }
          ],
          "scatter": [
           {
            "fillpattern": {
             "fillmode": "overlay",
             "size": 10,
             "solidity": 0.2
            },
            "type": "scatter"
           }
          ],
          "scatter3d": [
           {
            "line": {
             "colorbar": {
              "outlinewidth": 0,
              "ticks": ""
             }
            },
            "marker": {
             "colorbar": {
              "outlinewidth": 0,
              "ticks": ""
             }
            },
            "type": "scatter3d"
           }
          ],
          "scattercarpet": [
           {
            "marker": {
             "colorbar": {
              "outlinewidth": 0,
              "ticks": ""
             }
            },
            "type": "scattercarpet"
           }
          ],
          "scattergeo": [
           {
            "marker": {
             "colorbar": {
              "outlinewidth": 0,
              "ticks": ""
             }
            },
            "type": "scattergeo"
           }
          ],
          "scattergl": [
           {
            "marker": {
             "colorbar": {
              "outlinewidth": 0,
              "ticks": ""
             }
            },
            "type": "scattergl"
           }
          ],
          "scattermapbox": [
           {
            "marker": {
             "colorbar": {
              "outlinewidth": 0,
              "ticks": ""
             }
            },
            "type": "scattermapbox"
           }
          ],
          "scatterpolar": [
           {
            "marker": {
             "colorbar": {
              "outlinewidth": 0,
              "ticks": ""
             }
            },
            "type": "scatterpolar"
           }
          ],
          "scatterpolargl": [
           {
            "marker": {
             "colorbar": {
              "outlinewidth": 0,
              "ticks": ""
             }
            },
            "type": "scatterpolargl"
           }
          ],
          "scatterternary": [
           {
            "marker": {
             "colorbar": {
              "outlinewidth": 0,
              "ticks": ""
             }
            },
            "type": "scatterternary"
           }
          ],
          "surface": [
           {
            "colorbar": {
             "outlinewidth": 0,
             "ticks": ""
            },
            "colorscale": [
             [
              0,
              "#0d0887"
             ],
             [
              0.1111111111111111,
              "#46039f"
             ],
             [
              0.2222222222222222,
              "#7201a8"
             ],
             [
              0.3333333333333333,
              "#9c179e"
             ],
             [
              0.4444444444444444,
              "#bd3786"
             ],
             [
              0.5555555555555556,
              "#d8576b"
             ],
             [
              0.6666666666666666,
              "#ed7953"
             ],
             [
              0.7777777777777778,
              "#fb9f3a"
             ],
             [
              0.8888888888888888,
              "#fdca26"
             ],
             [
              1,
              "#f0f921"
             ]
            ],
            "type": "surface"
           }
          ],
          "table": [
           {
            "cells": {
             "fill": {
              "color": "#EBF0F8"
             },
             "line": {
              "color": "white"
             }
            },
            "header": {
             "fill": {
              "color": "#C8D4E3"
             },
             "line": {
              "color": "white"
             }
            },
            "type": "table"
           }
          ]
         },
         "layout": {
          "annotationdefaults": {
           "arrowcolor": "#2a3f5f",
           "arrowhead": 0,
           "arrowwidth": 1
          },
          "autotypenumbers": "strict",
          "coloraxis": {
           "colorbar": {
            "outlinewidth": 0,
            "ticks": ""
           }
          },
          "colorscale": {
           "diverging": [
            [
             0,
             "#8e0152"
            ],
            [
             0.1,
             "#c51b7d"
            ],
            [
             0.2,
             "#de77ae"
            ],
            [
             0.3,
             "#f1b6da"
            ],
            [
             0.4,
             "#fde0ef"
            ],
            [
             0.5,
             "#f7f7f7"
            ],
            [
             0.6,
             "#e6f5d0"
            ],
            [
             0.7,
             "#b8e186"
            ],
            [
             0.8,
             "#7fbc41"
            ],
            [
             0.9,
             "#4d9221"
            ],
            [
             1,
             "#276419"
            ]
           ],
           "sequential": [
            [
             0,
             "#0d0887"
            ],
            [
             0.1111111111111111,
             "#46039f"
            ],
            [
             0.2222222222222222,
             "#7201a8"
            ],
            [
             0.3333333333333333,
             "#9c179e"
            ],
            [
             0.4444444444444444,
             "#bd3786"
            ],
            [
             0.5555555555555556,
             "#d8576b"
            ],
            [
             0.6666666666666666,
             "#ed7953"
            ],
            [
             0.7777777777777778,
             "#fb9f3a"
            ],
            [
             0.8888888888888888,
             "#fdca26"
            ],
            [
             1,
             "#f0f921"
            ]
           ],
           "sequentialminus": [
            [
             0,
             "#0d0887"
            ],
            [
             0.1111111111111111,
             "#46039f"
            ],
            [
             0.2222222222222222,
             "#7201a8"
            ],
            [
             0.3333333333333333,
             "#9c179e"
            ],
            [
             0.4444444444444444,
             "#bd3786"
            ],
            [
             0.5555555555555556,
             "#d8576b"
            ],
            [
             0.6666666666666666,
             "#ed7953"
            ],
            [
             0.7777777777777778,
             "#fb9f3a"
            ],
            [
             0.8888888888888888,
             "#fdca26"
            ],
            [
             1,
             "#f0f921"
            ]
           ]
          },
          "colorway": [
           "#636efa",
           "#EF553B",
           "#00cc96",
           "#ab63fa",
           "#FFA15A",
           "#19d3f3",
           "#FF6692",
           "#B6E880",
           "#FF97FF",
           "#FECB52"
          ],
          "font": {
           "color": "#2a3f5f"
          },
          "geo": {
           "bgcolor": "white",
           "lakecolor": "white",
           "landcolor": "#E5ECF6",
           "showlakes": true,
           "showland": true,
           "subunitcolor": "white"
          },
          "hoverlabel": {
           "align": "left"
          },
          "hovermode": "closest",
          "mapbox": {
           "style": "light"
          },
          "paper_bgcolor": "white",
          "plot_bgcolor": "#E5ECF6",
          "polar": {
           "angularaxis": {
            "gridcolor": "white",
            "linecolor": "white",
            "ticks": ""
           },
           "bgcolor": "#E5ECF6",
           "radialaxis": {
            "gridcolor": "white",
            "linecolor": "white",
            "ticks": ""
           }
          },
          "scene": {
           "xaxis": {
            "backgroundcolor": "#E5ECF6",
            "gridcolor": "white",
            "gridwidth": 2,
            "linecolor": "white",
            "showbackground": true,
            "ticks": "",
            "zerolinecolor": "white"
           },
           "yaxis": {
            "backgroundcolor": "#E5ECF6",
            "gridcolor": "white",
            "gridwidth": 2,
            "linecolor": "white",
            "showbackground": true,
            "ticks": "",
            "zerolinecolor": "white"
           },
           "zaxis": {
            "backgroundcolor": "#E5ECF6",
            "gridcolor": "white",
            "gridwidth": 2,
            "linecolor": "white",
            "showbackground": true,
            "ticks": "",
            "zerolinecolor": "white"
           }
          },
          "shapedefaults": {
           "line": {
            "color": "#2a3f5f"
           }
          },
          "ternary": {
           "aaxis": {
            "gridcolor": "white",
            "linecolor": "white",
            "ticks": ""
           },
           "baxis": {
            "gridcolor": "white",
            "linecolor": "white",
            "ticks": ""
           },
           "bgcolor": "#E5ECF6",
           "caxis": {
            "gridcolor": "white",
            "linecolor": "white",
            "ticks": ""
           }
          },
          "title": {
           "x": 0.05
          },
          "xaxis": {
           "automargin": true,
           "gridcolor": "white",
           "linecolor": "white",
           "ticks": "",
           "title": {
            "standoff": 15
           },
           "zerolinecolor": "white",
           "zerolinewidth": 2
          },
          "yaxis": {
           "automargin": true,
           "gridcolor": "white",
           "linecolor": "white",
           "ticks": "",
           "title": {
            "standoff": 15
           },
           "zerolinecolor": "white",
           "zerolinewidth": 2
          }
         }
        },
        "title": {
         "text": "Earnings 4 Years after Completion Grouped by Field of Study"
        },
        "yaxis": {
         "tickformat": "$,.0f",
         "title": {
          "text": "Earnings"
         }
        }
       }
      },
      "text/html": [
       "<div>                            <div id=\"a45606d7-f60c-4c47-81ae-f6b22ccfac58\" class=\"plotly-graph-div\" style=\"height:525px; width:100%;\"></div>            <script type=\"text/javascript\">                require([\"plotly\"], function(Plotly) {                    window.PLOTLYENV=window.PLOTLYENV || {};                                    if (document.getElementById(\"a45606d7-f60c-4c47-81ae-f6b22ccfac58\")) {                    Plotly.newPlot(                        \"a45606d7-f60c-4c47-81ae-f6b22ccfac58\",                        [{\"box\":{\"visible\":true},\"meanline\":{\"visible\":true},\"name\":\"05\",\"showlegend\":false,\"x\":[\"05\",\"05\"],\"y\":[55711.0,44503.0],\"type\":\"violin\"},{\"box\":{\"visible\":true},\"meanline\":{\"visible\":true},\"name\":\"09\",\"showlegend\":false,\"x\":[\"09\",\"09\",\"09\",\"09\",\"09\",\"09\",\"09\",\"09\",\"09\"],\"y\":[43349.0,58056.0,43818.0,42911.0,53112.0,51811.0,53623.0,45678.0,50739.0],\"type\":\"violin\"},{\"box\":{\"visible\":true},\"meanline\":{\"visible\":true},\"name\":\"10\",\"showlegend\":false,\"x\":[\"10\"],\"y\":[74650.0],\"type\":\"violin\"},{\"box\":{\"visible\":true},\"meanline\":{\"visible\":true},\"name\":\"11\",\"showlegend\":false,\"x\":[\"11\",\"11\",\"11\",\"11\",\"11\",\"11\",\"11\",\"11\",\"11\",\"11\",\"11\",\"11\"],\"y\":[102563.0,114046.0,91862.0,78628.0,86824.0,103513.0,48538.0,75474.0,90312.0,99562.0,77800.0,89974.0],\"type\":\"violin\"},{\"box\":{\"visible\":true},\"meanline\":{\"visible\":true},\"name\":\"13\",\"showlegend\":false,\"x\":[\"13\",\"13\",\"13\",\"13\",\"13\",\"13\",\"13\",\"13\",\"13\",\"13\",\"13\",\"13\",\"13\"],\"y\":[36162.0,36968.0,41473.0,46941.0,48318.0,49647.0,45267.0,48047.0,44873.0,47169.0,47204.0,44408.0,45752.0],\"type\":\"violin\"},{\"box\":{\"visible\":true},\"meanline\":{\"visible\":true},\"name\":\"14\",\"showlegend\":false,\"x\":[\"14\",\"14\",\"14\",\"14\",\"14\",\"14\",\"14\",\"14\",\"14\",\"14\",\"14\",\"14\",\"14\",\"14\",\"14\"],\"y\":[99093.0,73327.0,127592.0,95202.0,87666.0,80317.0,75925.0,87163.0,77504.0,91846.0,93547.0,80643.0,73089.0,93865.0,79480.0],\"type\":\"violin\"},{\"box\":{\"visible\":true},\"meanline\":{\"visible\":true},\"name\":\"16\",\"showlegend\":false,\"x\":[\"16\",\"16\",\"16\",\"16\",\"16\",\"16\",\"16\"],\"y\":[50095.0,66679.0,61951.0,57396.0,33074.0,49166.0,56633.0],\"type\":\"violin\"},{\"box\":{\"visible\":true},\"meanline\":{\"visible\":true},\"name\":\"19\",\"showlegend\":false,\"x\":[\"19\",\"19\",\"19\",\"19\",\"19\",\"19\",\"19\"],\"y\":[24823.0,34561.0,36054.0,44984.0,27114.0,41041.0,36219.0],\"type\":\"violin\"},{\"box\":{\"visible\":true},\"meanline\":{\"visible\":true},\"name\":\"23\",\"showlegend\":false,\"x\":[\"23\",\"23\",\"23\",\"23\",\"23\",\"23\",\"23\"],\"y\":[42838.0,41372.0,46995.0,38592.0,44957.0,39889.0,40671.0],\"type\":\"violin\"},{\"box\":{\"visible\":true},\"meanline\":{\"visible\":true},\"name\":\"26\",\"showlegend\":false,\"x\":[\"26\",\"26\",\"26\",\"26\",\"26\",\"26\",\"26\",\"26\",\"26\"],\"y\":[60978.0,50091.0,73566.0,42285.0,61607.0,61611.0,51081.0,55856.0,35147.0],\"type\":\"violin\"},{\"box\":{\"visible\":true},\"meanline\":{\"visible\":true},\"name\":\"27\",\"showlegend\":false,\"x\":[\"27\",\"27\"],\"y\":[89001.0,69595.0],\"type\":\"violin\"},{\"box\":{\"visible\":true},\"meanline\":{\"visible\":true},\"name\":\"31\",\"showlegend\":false,\"x\":[\"31\",\"31\",\"31\",\"31\",\"31\",\"31\",\"31\"],\"y\":[51688.0,25700.0,37883.0,56514.0,42364.0,52242.0,34578.0],\"type\":\"violin\"},{\"box\":{\"visible\":true},\"meanline\":{\"visible\":true},\"name\":\"40\",\"showlegend\":false,\"x\":[\"40\",\"40\",\"40\"],\"y\":[76268.0,61624.0,69676.0],\"type\":\"violin\"},{\"box\":{\"visible\":true},\"meanline\":{\"visible\":true},\"name\":\"42\",\"showlegend\":false,\"x\":[\"42\",\"42\",\"42\",\"42\",\"42\",\"42\"],\"y\":[44664.0,31561.0,41237.0,40516.0,42396.0,39512.0],\"type\":\"violin\"},{\"box\":{\"visible\":true},\"meanline\":{\"visible\":true},\"name\":\"45\",\"showlegend\":false,\"x\":[\"45\",\"45\",\"45\",\"45\",\"45\",\"45\",\"45\",\"45\",\"45\",\"45\",\"45\",\"45\",\"45\",\"45\"],\"y\":[81529.0,49878.0,75656.0,67496.0,48204.0,30608.0,73167.0,52129.0,41332.0,69589.0,37854.0,68470.0,52856.0,47324.0],\"type\":\"violin\"},{\"box\":{\"visible\":true},\"meanline\":{\"visible\":true},\"name\":\"50\",\"showlegend\":false,\"x\":[\"50\",\"50\",\"50\",\"50\",\"50\",\"50\",\"50\",\"50\",\"50\",\"50\",\"50\",\"50\",\"50\",\"50\",\"50\"],\"y\":[46179.0,28358.0,44182.0,36204.0,32723.0,25367.0,31040.0,35642.0,44117.0,31525.0,16331.0,37398.0,47300.0,45382.0,32470.0],\"type\":\"violin\"},{\"box\":{\"visible\":true},\"meanline\":{\"visible\":true},\"name\":\"51\",\"showlegend\":false,\"x\":[\"51\",\"51\",\"51\",\"51\",\"51\",\"51\",\"51\",\"51\",\"51\",\"51\",\"51\",\"51\",\"51\",\"51\",\"51\",\"51\",\"51\",\"51\"],\"y\":[38613.0,54880.0,44870.0,23498.0,47274.0,62156.0,50790.0,36029.0,65009.0,56703.0,66109.0,34952.0,58965.0,60396.0,68640.0,36698.0,64121.0,67444.0],\"type\":\"violin\"},{\"box\":{\"visible\":true},\"meanline\":{\"visible\":true},\"name\":\"52\",\"showlegend\":false,\"x\":[\"52\",\"52\",\"52\",\"52\",\"52\",\"52\",\"52\",\"52\",\"52\",\"52\",\"52\",\"52\",\"52\",\"52\",\"52\",\"52\",\"52\",\"52\",\"52\",\"52\",\"52\",\"52\",\"52\",\"52\",\"52\",\"52\",\"52\",\"52\",\"52\",\"52\",\"52\",\"52\"],\"y\":[96358.0,84993.0,97349.0,58082.0,96161.0,71748.0,83366.0,88304.0,61481.0,50623.0,64575.0,71538.0,69741.0,67969.0,71749.0,65175.0,83180.0,50174.0,66493.0,72856.0,73543.0,90829.0,68614.0,72851.0,66810.0,70831.0,62854.0,88600.0,64054.0,69521.0,64060.0,62620.0],\"type\":\"violin\"},{\"box\":{\"visible\":true},\"meanline\":{\"visible\":true},\"name\":\"54\",\"showlegend\":false,\"x\":[\"54\",\"54\",\"54\",\"54\"],\"y\":[54987.0,37218.0,36231.0,47392.0],\"type\":\"violin\"},{\"box\":{\"visible\":true},\"meanline\":{\"visible\":true},\"name\":\"24\",\"showlegend\":false,\"x\":[\"24\",\"24\",\"24\",\"24\"],\"y\":[32839.0,42982.0,49899.0,51593.0],\"type\":\"violin\"},{\"box\":{\"visible\":true},\"meanline\":{\"visible\":true},\"name\":\"43\",\"showlegend\":false,\"x\":[\"43\",\"43\",\"43\",\"43\"],\"y\":[43401.0,56791.0,70785.0,52978.0],\"type\":\"violin\"},{\"box\":{\"visible\":true},\"meanline\":{\"visible\":true},\"name\":\"01\",\"showlegend\":false,\"x\":[\"01\",\"01\"],\"y\":[56338.0,38971.0],\"type\":\"violin\"},{\"box\":{\"visible\":true},\"meanline\":{\"visible\":true},\"name\":\"04\",\"showlegend\":false,\"x\":[\"04\",\"04\"],\"y\":[61739.0,62795.0],\"type\":\"violin\"},{\"box\":{\"visible\":true},\"meanline\":{\"visible\":true},\"name\":\"30\",\"showlegend\":false,\"x\":[\"30\",\"30\",\"30\"],\"y\":[39623.0,42761.0,56942.0],\"type\":\"violin\"},{\"box\":{\"visible\":true},\"meanline\":{\"visible\":true},\"name\":\"44\",\"showlegend\":false,\"x\":[\"44\",\"44\",\"44\",\"44\"],\"y\":[39435.0,47214.0,47108.0,46415.0],\"type\":\"violin\"},{\"box\":{\"visible\":true},\"meanline\":{\"visible\":true},\"name\":\"46\",\"showlegend\":false,\"x\":[\"46\"],\"y\":[78807.0],\"type\":\"violin\"},{\"box\":{\"visible\":true},\"meanline\":{\"visible\":true},\"name\":\"49\",\"showlegend\":false,\"x\":[\"49\",\"49\"],\"y\":[80991.0,59224.0],\"type\":\"violin\"},{\"box\":{\"visible\":true},\"meanline\":{\"visible\":true},\"name\":\"15\",\"showlegend\":false,\"x\":[\"15\",\"15\"],\"y\":[84292.0,72469.0],\"type\":\"violin\"}],                        {\"template\":{\"data\":{\"histogram2dcontour\":[{\"type\":\"histogram2dcontour\",\"colorbar\":{\"outlinewidth\":0,\"ticks\":\"\"},\"colorscale\":[[0.0,\"#0d0887\"],[0.1111111111111111,\"#46039f\"],[0.2222222222222222,\"#7201a8\"],[0.3333333333333333,\"#9c179e\"],[0.4444444444444444,\"#bd3786\"],[0.5555555555555556,\"#d8576b\"],[0.6666666666666666,\"#ed7953\"],[0.7777777777777778,\"#fb9f3a\"],[0.8888888888888888,\"#fdca26\"],[1.0,\"#f0f921\"]]}],\"choropleth\":[{\"type\":\"choropleth\",\"colorbar\":{\"outlinewidth\":0,\"ticks\":\"\"}}],\"histogram2d\":[{\"type\":\"histogram2d\",\"colorbar\":{\"outlinewidth\":0,\"ticks\":\"\"},\"colorscale\":[[0.0,\"#0d0887\"],[0.1111111111111111,\"#46039f\"],[0.2222222222222222,\"#7201a8\"],[0.3333333333333333,\"#9c179e\"],[0.4444444444444444,\"#bd3786\"],[0.5555555555555556,\"#d8576b\"],[0.6666666666666666,\"#ed7953\"],[0.7777777777777778,\"#fb9f3a\"],[0.8888888888888888,\"#fdca26\"],[1.0,\"#f0f921\"]]}],\"heatmap\":[{\"type\":\"heatmap\",\"colorbar\":{\"outlinewidth\":0,\"ticks\":\"\"},\"colorscale\":[[0.0,\"#0d0887\"],[0.1111111111111111,\"#46039f\"],[0.2222222222222222,\"#7201a8\"],[0.3333333333333333,\"#9c179e\"],[0.4444444444444444,\"#bd3786\"],[0.5555555555555556,\"#d8576b\"],[0.6666666666666666,\"#ed7953\"],[0.7777777777777778,\"#fb9f3a\"],[0.8888888888888888,\"#fdca26\"],[1.0,\"#f0f921\"]]}],\"heatmapgl\":[{\"type\":\"heatmapgl\",\"colorbar\":{\"outlinewidth\":0,\"ticks\":\"\"},\"colorscale\":[[0.0,\"#0d0887\"],[0.1111111111111111,\"#46039f\"],[0.2222222222222222,\"#7201a8\"],[0.3333333333333333,\"#9c179e\"],[0.4444444444444444,\"#bd3786\"],[0.5555555555555556,\"#d8576b\"],[0.6666666666666666,\"#ed7953\"],[0.7777777777777778,\"#fb9f3a\"],[0.8888888888888888,\"#fdca26\"],[1.0,\"#f0f921\"]]}],\"contourcarpet\":[{\"type\":\"contourcarpet\",\"colorbar\":{\"outlinewidth\":0,\"ticks\":\"\"}}],\"contour\":[{\"type\":\"contour\",\"colorbar\":{\"outlinewidth\":0,\"ticks\":\"\"},\"colorscale\":[[0.0,\"#0d0887\"],[0.1111111111111111,\"#46039f\"],[0.2222222222222222,\"#7201a8\"],[0.3333333333333333,\"#9c179e\"],[0.4444444444444444,\"#bd3786\"],[0.5555555555555556,\"#d8576b\"],[0.6666666666666666,\"#ed7953\"],[0.7777777777777778,\"#fb9f3a\"],[0.8888888888888888,\"#fdca26\"],[1.0,\"#f0f921\"]]}],\"surface\":[{\"type\":\"surface\",\"colorbar\":{\"outlinewidth\":0,\"ticks\":\"\"},\"colorscale\":[[0.0,\"#0d0887\"],[0.1111111111111111,\"#46039f\"],[0.2222222222222222,\"#7201a8\"],[0.3333333333333333,\"#9c179e\"],[0.4444444444444444,\"#bd3786\"],[0.5555555555555556,\"#d8576b\"],[0.6666666666666666,\"#ed7953\"],[0.7777777777777778,\"#fb9f3a\"],[0.8888888888888888,\"#fdca26\"],[1.0,\"#f0f921\"]]}],\"mesh3d\":[{\"type\":\"mesh3d\",\"colorbar\":{\"outlinewidth\":0,\"ticks\":\"\"}}],\"scatter\":[{\"fillpattern\":{\"fillmode\":\"overlay\",\"size\":10,\"solidity\":0.2},\"type\":\"scatter\"}],\"parcoords\":[{\"type\":\"parcoords\",\"line\":{\"colorbar\":{\"outlinewidth\":0,\"ticks\":\"\"}}}],\"scatterpolargl\":[{\"type\":\"scatterpolargl\",\"marker\":{\"colorbar\":{\"outlinewidth\":0,\"ticks\":\"\"}}}],\"bar\":[{\"error_x\":{\"color\":\"#2a3f5f\"},\"error_y\":{\"color\":\"#2a3f5f\"},\"marker\":{\"line\":{\"color\":\"#E5ECF6\",\"width\":0.5},\"pattern\":{\"fillmode\":\"overlay\",\"size\":10,\"solidity\":0.2}},\"type\":\"bar\"}],\"scattergeo\":[{\"type\":\"scattergeo\",\"marker\":{\"colorbar\":{\"outlinewidth\":0,\"ticks\":\"\"}}}],\"scatterpolar\":[{\"type\":\"scatterpolar\",\"marker\":{\"colorbar\":{\"outlinewidth\":0,\"ticks\":\"\"}}}],\"histogram\":[{\"marker\":{\"pattern\":{\"fillmode\":\"overlay\",\"size\":10,\"solidity\":0.2}},\"type\":\"histogram\"}],\"scattergl\":[{\"type\":\"scattergl\",\"marker\":{\"colorbar\":{\"outlinewidth\":0,\"ticks\":\"\"}}}],\"scatter3d\":[{\"type\":\"scatter3d\",\"line\":{\"colorbar\":{\"outlinewidth\":0,\"ticks\":\"\"}},\"marker\":{\"colorbar\":{\"outlinewidth\":0,\"ticks\":\"\"}}}],\"scattermapbox\":[{\"type\":\"scattermapbox\",\"marker\":{\"colorbar\":{\"outlinewidth\":0,\"ticks\":\"\"}}}],\"scatterternary\":[{\"type\":\"scatterternary\",\"marker\":{\"colorbar\":{\"outlinewidth\":0,\"ticks\":\"\"}}}],\"scattercarpet\":[{\"type\":\"scattercarpet\",\"marker\":{\"colorbar\":{\"outlinewidth\":0,\"ticks\":\"\"}}}],\"carpet\":[{\"aaxis\":{\"endlinecolor\":\"#2a3f5f\",\"gridcolor\":\"white\",\"linecolor\":\"white\",\"minorgridcolor\":\"white\",\"startlinecolor\":\"#2a3f5f\"},\"baxis\":{\"endlinecolor\":\"#2a3f5f\",\"gridcolor\":\"white\",\"linecolor\":\"white\",\"minorgridcolor\":\"white\",\"startlinecolor\":\"#2a3f5f\"},\"type\":\"carpet\"}],\"table\":[{\"cells\":{\"fill\":{\"color\":\"#EBF0F8\"},\"line\":{\"color\":\"white\"}},\"header\":{\"fill\":{\"color\":\"#C8D4E3\"},\"line\":{\"color\":\"white\"}},\"type\":\"table\"}],\"barpolar\":[{\"marker\":{\"line\":{\"color\":\"#E5ECF6\",\"width\":0.5},\"pattern\":{\"fillmode\":\"overlay\",\"size\":10,\"solidity\":0.2}},\"type\":\"barpolar\"}],\"pie\":[{\"automargin\":true,\"type\":\"pie\"}]},\"layout\":{\"autotypenumbers\":\"strict\",\"colorway\":[\"#636efa\",\"#EF553B\",\"#00cc96\",\"#ab63fa\",\"#FFA15A\",\"#19d3f3\",\"#FF6692\",\"#B6E880\",\"#FF97FF\",\"#FECB52\"],\"font\":{\"color\":\"#2a3f5f\"},\"hovermode\":\"closest\",\"hoverlabel\":{\"align\":\"left\"},\"paper_bgcolor\":\"white\",\"plot_bgcolor\":\"#E5ECF6\",\"polar\":{\"bgcolor\":\"#E5ECF6\",\"angularaxis\":{\"gridcolor\":\"white\",\"linecolor\":\"white\",\"ticks\":\"\"},\"radialaxis\":{\"gridcolor\":\"white\",\"linecolor\":\"white\",\"ticks\":\"\"}},\"ternary\":{\"bgcolor\":\"#E5ECF6\",\"aaxis\":{\"gridcolor\":\"white\",\"linecolor\":\"white\",\"ticks\":\"\"},\"baxis\":{\"gridcolor\":\"white\",\"linecolor\":\"white\",\"ticks\":\"\"},\"caxis\":{\"gridcolor\":\"white\",\"linecolor\":\"white\",\"ticks\":\"\"}},\"coloraxis\":{\"colorbar\":{\"outlinewidth\":0,\"ticks\":\"\"}},\"colorscale\":{\"sequential\":[[0.0,\"#0d0887\"],[0.1111111111111111,\"#46039f\"],[0.2222222222222222,\"#7201a8\"],[0.3333333333333333,\"#9c179e\"],[0.4444444444444444,\"#bd3786\"],[0.5555555555555556,\"#d8576b\"],[0.6666666666666666,\"#ed7953\"],[0.7777777777777778,\"#fb9f3a\"],[0.8888888888888888,\"#fdca26\"],[1.0,\"#f0f921\"]],\"sequentialminus\":[[0.0,\"#0d0887\"],[0.1111111111111111,\"#46039f\"],[0.2222222222222222,\"#7201a8\"],[0.3333333333333333,\"#9c179e\"],[0.4444444444444444,\"#bd3786\"],[0.5555555555555556,\"#d8576b\"],[0.6666666666666666,\"#ed7953\"],[0.7777777777777778,\"#fb9f3a\"],[0.8888888888888888,\"#fdca26\"],[1.0,\"#f0f921\"]],\"diverging\":[[0,\"#8e0152\"],[0.1,\"#c51b7d\"],[0.2,\"#de77ae\"],[0.3,\"#f1b6da\"],[0.4,\"#fde0ef\"],[0.5,\"#f7f7f7\"],[0.6,\"#e6f5d0\"],[0.7,\"#b8e186\"],[0.8,\"#7fbc41\"],[0.9,\"#4d9221\"],[1,\"#276419\"]]},\"xaxis\":{\"gridcolor\":\"white\",\"linecolor\":\"white\",\"ticks\":\"\",\"title\":{\"standoff\":15},\"zerolinecolor\":\"white\",\"automargin\":true,\"zerolinewidth\":2},\"yaxis\":{\"gridcolor\":\"white\",\"linecolor\":\"white\",\"ticks\":\"\",\"title\":{\"standoff\":15},\"zerolinecolor\":\"white\",\"automargin\":true,\"zerolinewidth\":2},\"scene\":{\"xaxis\":{\"backgroundcolor\":\"#E5ECF6\",\"gridcolor\":\"white\",\"linecolor\":\"white\",\"showbackground\":true,\"ticks\":\"\",\"zerolinecolor\":\"white\",\"gridwidth\":2},\"yaxis\":{\"backgroundcolor\":\"#E5ECF6\",\"gridcolor\":\"white\",\"linecolor\":\"white\",\"showbackground\":true,\"ticks\":\"\",\"zerolinecolor\":\"white\",\"gridwidth\":2},\"zaxis\":{\"backgroundcolor\":\"#E5ECF6\",\"gridcolor\":\"white\",\"linecolor\":\"white\",\"showbackground\":true,\"ticks\":\"\",\"zerolinecolor\":\"white\",\"gridwidth\":2}},\"shapedefaults\":{\"line\":{\"color\":\"#2a3f5f\"}},\"annotationdefaults\":{\"arrowcolor\":\"#2a3f5f\",\"arrowhead\":0,\"arrowwidth\":1},\"geo\":{\"bgcolor\":\"white\",\"landcolor\":\"#E5ECF6\",\"subunitcolor\":\"white\",\"showland\":true,\"showlakes\":true,\"lakecolor\":\"white\"},\"title\":{\"x\":0.05},\"mapbox\":{\"style\":\"light\"}}},\"yaxis\":{\"tickformat\":\"$,.0f\",\"title\":{\"text\":\"Earnings\"}},\"font\":{\"family\":\"Courier New, monospace\",\"size\":10,\"color\":\"RebeccaPurple\"},\"title\":{\"text\":\"Earnings 4 Years after Completion Grouped by Field of Study\"}},                        {\"responsive\": true}                    ).then(function(){\n",
       "                            \n",
       "var gd = document.getElementById('a45606d7-f60c-4c47-81ae-f6b22ccfac58');\n",
       "var x = new MutationObserver(function (mutations, observer) {{\n",
       "        var display = window.getComputedStyle(gd).display;\n",
       "        if (!display || display === 'none') {{\n",
       "            console.log([gd, 'removed!']);\n",
       "            Plotly.purge(gd);\n",
       "            observer.disconnect();\n",
       "        }}\n",
       "}});\n",
       "\n",
       "// Listen for the removal of the full notebook cells\n",
       "var notebookContainer = gd.closest('#notebook-container');\n",
       "if (notebookContainer) {{\n",
       "    x.observe(notebookContainer, {childList: true});\n",
       "}}\n",
       "\n",
       "// Listen for the clearing of the current output cell\n",
       "var outputEl = gd.closest('.output');\n",
       "if (outputEl) {{\n",
       "    x.observe(outputEl, {childList: true});\n",
       "}}\n",
       "\n",
       "                        })                };                });            </script>        </div>"
      ]
     },
     "metadata": {},
     "output_type": "display_data"
    }
   ],
   "source": [
    "fig = go.Figure()\n",
    "\n",
    "fields = df['CIPFIELD'].unique().tolist() # Get list of unique fields of study\n",
    "\n",
    "# Create violin plot for each field of study\n",
    "for field in fields:\n",
    "    fig.add_trace(go.Violin(x=df['CIPFIELD'][df['CIPFIELD'] == field],\n",
    "                            y=df['EARN_MDN_4YR'][df['CIPFIELD'] == field],\n",
    "                            name=field,\n",
    "                            box_visible=True,\n",
    "                            meanline_visible=True,\n",
    "                            showlegend=False))\n",
    "\n",
    "# Format the plot\n",
    "fig.update_yaxes(tickformat=\"$,.0f\")\n",
    "fig.update_layout(\n",
    "    title=\"Earnings 4 Years after Completion Grouped by Field of Study\",\n",
    "    yaxis_title=\"Earnings\",\n",
    "    font=dict(\n",
    "        family=\"Courier New, monospace\",\n",
    "        size=10,\n",
    "        color=\"RebeccaPurple\"\n",
    "    )\n",
    ")"
   ]
  },
  {
   "cell_type": "code",
   "execution_count": 66,
   "metadata": {},
   "outputs": [
    {
     "data": {
      "application/vnd.plotly.v1+json": {
       "config": {
        "plotlyServerURL": "https://plot.ly"
       },
       "data": [
        {
         "box": {
          "visible": true
         },
         "meanline": {
          "visible": true
         },
         "name": "05",
         "showlegend": false,
         "type": "violin",
         "x": [
          "05",
          "05"
         ],
         "y": [
          33213,
          33660
         ]
        },
        {
         "box": {
          "visible": true
         },
         "meanline": {
          "visible": true
         },
         "name": "09",
         "showlegend": false,
         "type": "violin",
         "x": [
          "09",
          "09",
          "09",
          "09",
          "09",
          "09",
          "09",
          "09",
          "09"
         ],
         "y": [
          34657,
          46269,
          30187,
          38390,
          25858,
          41488,
          42257,
          37210,
          31263
         ]
        },
        {
         "box": {
          "visible": true
         },
         "meanline": {
          "visible": true
         },
         "name": "10",
         "showlegend": false,
         "type": "violin",
         "x": [
          "10"
         ],
         "y": [
          48703
         ]
        },
        {
         "box": {
          "visible": true
         },
         "meanline": {
          "visible": true
         },
         "name": "11",
         "showlegend": false,
         "type": "violin",
         "x": [
          "11",
          "11",
          "11",
          "11",
          "11",
          "11",
          "11",
          "11",
          "11",
          "11",
          "11",
          "11"
         ],
         "y": [
          71979,
          86469,
          67784,
          57418,
          70780,
          75364,
          37101,
          66403,
          65910,
          85652,
          77117,
          69835
         ]
        },
        {
         "box": {
          "visible": true
         },
         "meanline": {
          "visible": true
         },
         "name": "13",
         "showlegend": false,
         "type": "violin",
         "x": [
          "13",
          "13",
          "13",
          "13",
          "13",
          "13",
          "13",
          "13",
          "13",
          "13",
          "13",
          "13",
          "13"
         ],
         "y": [
          43375,
          39074,
          42659,
          43637,
          40441,
          57508,
          43193,
          33949,
          41208,
          43698,
          48025,
          42655,
          44739
         ]
        },
        {
         "box": {
          "visible": true
         },
         "meanline": {
          "visible": true
         },
         "name": "14",
         "showlegend": false,
         "type": "violin",
         "x": [
          "14",
          "14",
          "14",
          "14",
          "14",
          "14",
          "14",
          "14",
          "14",
          "14",
          "14",
          "14",
          "14",
          "14",
          "14"
         ],
         "y": [
          71134,
          64584,
          79784,
          75488,
          65881,
          67138,
          60203,
          67878,
          64542,
          82864,
          63887,
          73510,
          64713,
          71975,
          67601
         ]
        },
        {
         "box": {
          "visible": true
         },
         "meanline": {
          "visible": true
         },
         "name": "16",
         "showlegend": false,
         "type": "violin",
         "x": [
          "16",
          "16",
          "16",
          "16",
          "16",
          "16",
          "16"
         ],
         "y": [
          33247,
          49724,
          37715,
          37698,
          29046,
          44728,
          35904
         ]
        },
        {
         "box": {
          "visible": true
         },
         "meanline": {
          "visible": true
         },
         "name": "19",
         "showlegend": false,
         "type": "violin",
         "x": [
          "19",
          "19",
          "19",
          "19",
          "19",
          "19",
          "19"
         ],
         "y": [
          24348,
          19031,
          25552,
          30564,
          21265,
          32998,
          31167
         ]
        },
        {
         "box": {
          "visible": true
         },
         "meanline": {
          "visible": true
         },
         "name": "23",
         "showlegend": false,
         "type": "violin",
         "x": [
          "23",
          "23",
          "23",
          "23",
          "23",
          "23",
          "23"
         ],
         "y": [
          28928,
          31920,
          41726,
          29158,
          30897,
          33292,
          30804
         ]
        },
        {
         "box": {
          "visible": true
         },
         "meanline": {
          "visible": true
         },
         "name": "26",
         "showlegend": false,
         "type": "violin",
         "x": [
          "26",
          "26",
          "26",
          "26",
          "26",
          "26",
          "26",
          "26",
          "26"
         ],
         "y": [
          20357,
          26908,
          27544,
          26616,
          31621,
          27274,
          33436,
          38438,
          33052
         ]
        },
        {
         "box": {
          "visible": true
         },
         "meanline": {
          "visible": true
         },
         "name": "27",
         "showlegend": false,
         "type": "violin",
         "x": [
          "27",
          "27"
         ],
         "y": [
          58223,
          56462
         ]
        },
        {
         "box": {
          "visible": true
         },
         "meanline": {
          "visible": true
         },
         "name": "31",
         "showlegend": false,
         "type": "violin",
         "x": [
          "31",
          "31",
          "31",
          "31",
          "31",
          "31",
          "31"
         ],
         "y": [
          45748,
          23297,
          28579,
          29740,
          35104,
          34364,
          34152
         ]
        },
        {
         "box": {
          "visible": true
         },
         "meanline": {
          "visible": true
         },
         "name": "40",
         "showlegend": false,
         "type": "violin",
         "x": [
          "40",
          "40",
          "40"
         ],
         "y": [
          65065,
          38443,
          46844
         ]
        },
        {
         "box": {
          "visible": true
         },
         "meanline": {
          "visible": true
         },
         "name": "42",
         "showlegend": false,
         "type": "violin",
         "x": [
          "42",
          "42",
          "42",
          "42",
          "42",
          "42"
         ],
         "y": [
          30691,
          24986,
          27843,
          30434,
          32569,
          31234
         ]
        },
        {
         "box": {
          "visible": true
         },
         "meanline": {
          "visible": true
         },
         "name": "45",
         "showlegend": false,
         "type": "violin",
         "x": [
          "45",
          "45",
          "45",
          "45",
          "45",
          "45",
          "45",
          "45",
          "45",
          "45",
          "45",
          "45",
          "45",
          "45"
         ],
         "y": [
          56599,
          35192,
          49714,
          47758,
          33075,
          26905,
          56160,
          35714,
          30047,
          31466,
          33315,
          51466,
          41114,
          35082
         ]
        },
        {
         "box": {
          "visible": true
         },
         "meanline": {
          "visible": true
         },
         "name": "50",
         "showlegend": false,
         "type": "violin",
         "x": [
          "50",
          "50",
          "50",
          "50",
          "50",
          "50",
          "50",
          "50",
          "50",
          "50",
          "50",
          "50",
          "50",
          "50",
          "50"
         ],
         "y": [
          36853,
          28248,
          29558,
          31129,
          17223,
          25895,
          31454,
          22929,
          36784,
          22648,
          23730,
          25918,
          32828,
          39217,
          17779
         ]
        },
        {
         "box": {
          "visible": true
         },
         "meanline": {
          "visible": true
         },
         "name": "51",
         "showlegend": false,
         "type": "violin",
         "x": [
          "51",
          "51",
          "51",
          "51",
          "51",
          "51",
          "51",
          "51",
          "51",
          "51",
          "51",
          "51",
          "51",
          "51",
          "51",
          "51",
          "51",
          "51"
         ],
         "y": [
          28408,
          58242,
          27319,
          28163,
          57610,
          58924,
          30686,
          32166,
          59532,
          35667,
          62547,
          39128,
          41529,
          58815,
          63701,
          34343,
          58928,
          59998
         ]
        },
        {
         "box": {
          "visible": true
         },
         "meanline": {
          "visible": true
         },
         "name": "52",
         "showlegend": false,
         "type": "violin",
         "x": [
          "52",
          "52",
          "52",
          "52",
          "52",
          "52",
          "52",
          "52",
          "52",
          "52",
          "52",
          "52",
          "52",
          "52",
          "52",
          "52",
          "52",
          "52",
          "52",
          "52",
          "52",
          "52",
          "52",
          "52",
          "52",
          "52",
          "52",
          "52",
          "52",
          "52",
          "52",
          "52"
         ],
         "y": [
          64372,
          62338,
          70080,
          53829,
          74883,
          58291,
          59117,
          69456,
          46898,
          33485,
          49448,
          54453,
          56594,
          51511,
          56394,
          51058,
          57758,
          37706,
          51672,
          50902,
          59878,
          60152,
          51688,
          57781,
          51486,
          50279,
          53424,
          64997,
          51347,
          55931,
          51938,
          44300
         ]
        },
        {
         "box": {
          "visible": true
         },
         "meanline": {
          "visible": true
         },
         "name": "54",
         "showlegend": false,
         "type": "violin",
         "x": [
          "54",
          "54",
          "54",
          "54"
         ],
         "y": [
          33397,
          30136,
          32694,
          28541
         ]
        },
        {
         "box": {
          "visible": true
         },
         "meanline": {
          "visible": true
         },
         "name": "24",
         "showlegend": false,
         "type": "violin",
         "x": [
          "24",
          "24",
          "24",
          "24"
         ],
         "y": [
          36981,
          30086,
          42698,
          38071
         ]
        },
        {
         "box": {
          "visible": true
         },
         "meanline": {
          "visible": true
         },
         "name": "43",
         "showlegend": false,
         "type": "violin",
         "x": [
          "43",
          "43",
          "43",
          "43"
         ],
         "y": [
          36865,
          42800,
          56578,
          40955
         ]
        },
        {
         "box": {
          "visible": true
         },
         "meanline": {
          "visible": true
         },
         "name": "01",
         "showlegend": false,
         "type": "violin",
         "x": [
          "01",
          "01"
         ],
         "y": [
          45395,
          30278
         ]
        },
        {
         "box": {
          "visible": true
         },
         "meanline": {
          "visible": true
         },
         "name": "04",
         "showlegend": false,
         "type": "violin",
         "x": [
          "04",
          "04"
         ],
         "y": [
          48671,
          39464
         ]
        },
        {
         "box": {
          "visible": true
         },
         "meanline": {
          "visible": true
         },
         "name": "30",
         "showlegend": false,
         "type": "violin",
         "x": [
          "30",
          "30",
          "30"
         ],
         "y": [
          28338,
          31108,
          37755
         ]
        },
        {
         "box": {
          "visible": true
         },
         "meanline": {
          "visible": true
         },
         "name": "44",
         "showlegend": false,
         "type": "violin",
         "x": [
          "44",
          "44",
          "44",
          "44"
         ],
         "y": [
          30124,
          32598,
          37283,
          38055
         ]
        },
        {
         "box": {
          "visible": true
         },
         "meanline": {
          "visible": true
         },
         "name": "46",
         "showlegend": false,
         "type": "violin",
         "x": [
          "46"
         ],
         "y": [
          68886
         ]
        },
        {
         "box": {
          "visible": true
         },
         "meanline": {
          "visible": true
         },
         "name": "49",
         "showlegend": false,
         "type": "violin",
         "x": [
          "49",
          "49"
         ],
         "y": [
          56993,
          44128
         ]
        },
        {
         "box": {
          "visible": true
         },
         "meanline": {
          "visible": true
         },
         "name": "15",
         "showlegend": false,
         "type": "violin",
         "x": [
          "15",
          "15"
         ],
         "y": [
          69077,
          62141
         ]
        }
       ],
       "layout": {
        "font": {
         "color": "RebeccaPurple",
         "family": "Courier New, monospace",
         "size": 10
        },
        "template": {
         "data": {
          "bar": [
           {
            "error_x": {
             "color": "#2a3f5f"
            },
            "error_y": {
             "color": "#2a3f5f"
            },
            "marker": {
             "line": {
              "color": "#E5ECF6",
              "width": 0.5
             },
             "pattern": {
              "fillmode": "overlay",
              "size": 10,
              "solidity": 0.2
             }
            },
            "type": "bar"
           }
          ],
          "barpolar": [
           {
            "marker": {
             "line": {
              "color": "#E5ECF6",
              "width": 0.5
             },
             "pattern": {
              "fillmode": "overlay",
              "size": 10,
              "solidity": 0.2
             }
            },
            "type": "barpolar"
           }
          ],
          "carpet": [
           {
            "aaxis": {
             "endlinecolor": "#2a3f5f",
             "gridcolor": "white",
             "linecolor": "white",
             "minorgridcolor": "white",
             "startlinecolor": "#2a3f5f"
            },
            "baxis": {
             "endlinecolor": "#2a3f5f",
             "gridcolor": "white",
             "linecolor": "white",
             "minorgridcolor": "white",
             "startlinecolor": "#2a3f5f"
            },
            "type": "carpet"
           }
          ],
          "choropleth": [
           {
            "colorbar": {
             "outlinewidth": 0,
             "ticks": ""
            },
            "type": "choropleth"
           }
          ],
          "contour": [
           {
            "colorbar": {
             "outlinewidth": 0,
             "ticks": ""
            },
            "colorscale": [
             [
              0,
              "#0d0887"
             ],
             [
              0.1111111111111111,
              "#46039f"
             ],
             [
              0.2222222222222222,
              "#7201a8"
             ],
             [
              0.3333333333333333,
              "#9c179e"
             ],
             [
              0.4444444444444444,
              "#bd3786"
             ],
             [
              0.5555555555555556,
              "#d8576b"
             ],
             [
              0.6666666666666666,
              "#ed7953"
             ],
             [
              0.7777777777777778,
              "#fb9f3a"
             ],
             [
              0.8888888888888888,
              "#fdca26"
             ],
             [
              1,
              "#f0f921"
             ]
            ],
            "type": "contour"
           }
          ],
          "contourcarpet": [
           {
            "colorbar": {
             "outlinewidth": 0,
             "ticks": ""
            },
            "type": "contourcarpet"
           }
          ],
          "heatmap": [
           {
            "colorbar": {
             "outlinewidth": 0,
             "ticks": ""
            },
            "colorscale": [
             [
              0,
              "#0d0887"
             ],
             [
              0.1111111111111111,
              "#46039f"
             ],
             [
              0.2222222222222222,
              "#7201a8"
             ],
             [
              0.3333333333333333,
              "#9c179e"
             ],
             [
              0.4444444444444444,
              "#bd3786"
             ],
             [
              0.5555555555555556,
              "#d8576b"
             ],
             [
              0.6666666666666666,
              "#ed7953"
             ],
             [
              0.7777777777777778,
              "#fb9f3a"
             ],
             [
              0.8888888888888888,
              "#fdca26"
             ],
             [
              1,
              "#f0f921"
             ]
            ],
            "type": "heatmap"
           }
          ],
          "heatmapgl": [
           {
            "colorbar": {
             "outlinewidth": 0,
             "ticks": ""
            },
            "colorscale": [
             [
              0,
              "#0d0887"
             ],
             [
              0.1111111111111111,
              "#46039f"
             ],
             [
              0.2222222222222222,
              "#7201a8"
             ],
             [
              0.3333333333333333,
              "#9c179e"
             ],
             [
              0.4444444444444444,
              "#bd3786"
             ],
             [
              0.5555555555555556,
              "#d8576b"
             ],
             [
              0.6666666666666666,
              "#ed7953"
             ],
             [
              0.7777777777777778,
              "#fb9f3a"
             ],
             [
              0.8888888888888888,
              "#fdca26"
             ],
             [
              1,
              "#f0f921"
             ]
            ],
            "type": "heatmapgl"
           }
          ],
          "histogram": [
           {
            "marker": {
             "pattern": {
              "fillmode": "overlay",
              "size": 10,
              "solidity": 0.2
             }
            },
            "type": "histogram"
           }
          ],
          "histogram2d": [
           {
            "colorbar": {
             "outlinewidth": 0,
             "ticks": ""
            },
            "colorscale": [
             [
              0,
              "#0d0887"
             ],
             [
              0.1111111111111111,
              "#46039f"
             ],
             [
              0.2222222222222222,
              "#7201a8"
             ],
             [
              0.3333333333333333,
              "#9c179e"
             ],
             [
              0.4444444444444444,
              "#bd3786"
             ],
             [
              0.5555555555555556,
              "#d8576b"
             ],
             [
              0.6666666666666666,
              "#ed7953"
             ],
             [
              0.7777777777777778,
              "#fb9f3a"
             ],
             [
              0.8888888888888888,
              "#fdca26"
             ],
             [
              1,
              "#f0f921"
             ]
            ],
            "type": "histogram2d"
           }
          ],
          "histogram2dcontour": [
           {
            "colorbar": {
             "outlinewidth": 0,
             "ticks": ""
            },
            "colorscale": [
             [
              0,
              "#0d0887"
             ],
             [
              0.1111111111111111,
              "#46039f"
             ],
             [
              0.2222222222222222,
              "#7201a8"
             ],
             [
              0.3333333333333333,
              "#9c179e"
             ],
             [
              0.4444444444444444,
              "#bd3786"
             ],
             [
              0.5555555555555556,
              "#d8576b"
             ],
             [
              0.6666666666666666,
              "#ed7953"
             ],
             [
              0.7777777777777778,
              "#fb9f3a"
             ],
             [
              0.8888888888888888,
              "#fdca26"
             ],
             [
              1,
              "#f0f921"
             ]
            ],
            "type": "histogram2dcontour"
           }
          ],
          "mesh3d": [
           {
            "colorbar": {
             "outlinewidth": 0,
             "ticks": ""
            },
            "type": "mesh3d"
           }
          ],
          "parcoords": [
           {
            "line": {
             "colorbar": {
              "outlinewidth": 0,
              "ticks": ""
             }
            },
            "type": "parcoords"
           }
          ],
          "pie": [
           {
            "automargin": true,
            "type": "pie"
           }
          ],
          "scatter": [
           {
            "fillpattern": {
             "fillmode": "overlay",
             "size": 10,
             "solidity": 0.2
            },
            "type": "scatter"
           }
          ],
          "scatter3d": [
           {
            "line": {
             "colorbar": {
              "outlinewidth": 0,
              "ticks": ""
             }
            },
            "marker": {
             "colorbar": {
              "outlinewidth": 0,
              "ticks": ""
             }
            },
            "type": "scatter3d"
           }
          ],
          "scattercarpet": [
           {
            "marker": {
             "colorbar": {
              "outlinewidth": 0,
              "ticks": ""
             }
            },
            "type": "scattercarpet"
           }
          ],
          "scattergeo": [
           {
            "marker": {
             "colorbar": {
              "outlinewidth": 0,
              "ticks": ""
             }
            },
            "type": "scattergeo"
           }
          ],
          "scattergl": [
           {
            "marker": {
             "colorbar": {
              "outlinewidth": 0,
              "ticks": ""
             }
            },
            "type": "scattergl"
           }
          ],
          "scattermapbox": [
           {
            "marker": {
             "colorbar": {
              "outlinewidth": 0,
              "ticks": ""
             }
            },
            "type": "scattermapbox"
           }
          ],
          "scatterpolar": [
           {
            "marker": {
             "colorbar": {
              "outlinewidth": 0,
              "ticks": ""
             }
            },
            "type": "scatterpolar"
           }
          ],
          "scatterpolargl": [
           {
            "marker": {
             "colorbar": {
              "outlinewidth": 0,
              "ticks": ""
             }
            },
            "type": "scatterpolargl"
           }
          ],
          "scatterternary": [
           {
            "marker": {
             "colorbar": {
              "outlinewidth": 0,
              "ticks": ""
             }
            },
            "type": "scatterternary"
           }
          ],
          "surface": [
           {
            "colorbar": {
             "outlinewidth": 0,
             "ticks": ""
            },
            "colorscale": [
             [
              0,
              "#0d0887"
             ],
             [
              0.1111111111111111,
              "#46039f"
             ],
             [
              0.2222222222222222,
              "#7201a8"
             ],
             [
              0.3333333333333333,
              "#9c179e"
             ],
             [
              0.4444444444444444,
              "#bd3786"
             ],
             [
              0.5555555555555556,
              "#d8576b"
             ],
             [
              0.6666666666666666,
              "#ed7953"
             ],
             [
              0.7777777777777778,
              "#fb9f3a"
             ],
             [
              0.8888888888888888,
              "#fdca26"
             ],
             [
              1,
              "#f0f921"
             ]
            ],
            "type": "surface"
           }
          ],
          "table": [
           {
            "cells": {
             "fill": {
              "color": "#EBF0F8"
             },
             "line": {
              "color": "white"
             }
            },
            "header": {
             "fill": {
              "color": "#C8D4E3"
             },
             "line": {
              "color": "white"
             }
            },
            "type": "table"
           }
          ]
         },
         "layout": {
          "annotationdefaults": {
           "arrowcolor": "#2a3f5f",
           "arrowhead": 0,
           "arrowwidth": 1
          },
          "autotypenumbers": "strict",
          "coloraxis": {
           "colorbar": {
            "outlinewidth": 0,
            "ticks": ""
           }
          },
          "colorscale": {
           "diverging": [
            [
             0,
             "#8e0152"
            ],
            [
             0.1,
             "#c51b7d"
            ],
            [
             0.2,
             "#de77ae"
            ],
            [
             0.3,
             "#f1b6da"
            ],
            [
             0.4,
             "#fde0ef"
            ],
            [
             0.5,
             "#f7f7f7"
            ],
            [
             0.6,
             "#e6f5d0"
            ],
            [
             0.7,
             "#b8e186"
            ],
            [
             0.8,
             "#7fbc41"
            ],
            [
             0.9,
             "#4d9221"
            ],
            [
             1,
             "#276419"
            ]
           ],
           "sequential": [
            [
             0,
             "#0d0887"
            ],
            [
             0.1111111111111111,
             "#46039f"
            ],
            [
             0.2222222222222222,
             "#7201a8"
            ],
            [
             0.3333333333333333,
             "#9c179e"
            ],
            [
             0.4444444444444444,
             "#bd3786"
            ],
            [
             0.5555555555555556,
             "#d8576b"
            ],
            [
             0.6666666666666666,
             "#ed7953"
            ],
            [
             0.7777777777777778,
             "#fb9f3a"
            ],
            [
             0.8888888888888888,
             "#fdca26"
            ],
            [
             1,
             "#f0f921"
            ]
           ],
           "sequentialminus": [
            [
             0,
             "#0d0887"
            ],
            [
             0.1111111111111111,
             "#46039f"
            ],
            [
             0.2222222222222222,
             "#7201a8"
            ],
            [
             0.3333333333333333,
             "#9c179e"
            ],
            [
             0.4444444444444444,
             "#bd3786"
            ],
            [
             0.5555555555555556,
             "#d8576b"
            ],
            [
             0.6666666666666666,
             "#ed7953"
            ],
            [
             0.7777777777777778,
             "#fb9f3a"
            ],
            [
             0.8888888888888888,
             "#fdca26"
            ],
            [
             1,
             "#f0f921"
            ]
           ]
          },
          "colorway": [
           "#636efa",
           "#EF553B",
           "#00cc96",
           "#ab63fa",
           "#FFA15A",
           "#19d3f3",
           "#FF6692",
           "#B6E880",
           "#FF97FF",
           "#FECB52"
          ],
          "font": {
           "color": "#2a3f5f"
          },
          "geo": {
           "bgcolor": "white",
           "lakecolor": "white",
           "landcolor": "#E5ECF6",
           "showlakes": true,
           "showland": true,
           "subunitcolor": "white"
          },
          "hoverlabel": {
           "align": "left"
          },
          "hovermode": "closest",
          "mapbox": {
           "style": "light"
          },
          "paper_bgcolor": "white",
          "plot_bgcolor": "#E5ECF6",
          "polar": {
           "angularaxis": {
            "gridcolor": "white",
            "linecolor": "white",
            "ticks": ""
           },
           "bgcolor": "#E5ECF6",
           "radialaxis": {
            "gridcolor": "white",
            "linecolor": "white",
            "ticks": ""
           }
          },
          "scene": {
           "xaxis": {
            "backgroundcolor": "#E5ECF6",
            "gridcolor": "white",
            "gridwidth": 2,
            "linecolor": "white",
            "showbackground": true,
            "ticks": "",
            "zerolinecolor": "white"
           },
           "yaxis": {
            "backgroundcolor": "#E5ECF6",
            "gridcolor": "white",
            "gridwidth": 2,
            "linecolor": "white",
            "showbackground": true,
            "ticks": "",
            "zerolinecolor": "white"
           },
           "zaxis": {
            "backgroundcolor": "#E5ECF6",
            "gridcolor": "white",
            "gridwidth": 2,
            "linecolor": "white",
            "showbackground": true,
            "ticks": "",
            "zerolinecolor": "white"
           }
          },
          "shapedefaults": {
           "line": {
            "color": "#2a3f5f"
           }
          },
          "ternary": {
           "aaxis": {
            "gridcolor": "white",
            "linecolor": "white",
            "ticks": ""
           },
           "baxis": {
            "gridcolor": "white",
            "linecolor": "white",
            "ticks": ""
           },
           "bgcolor": "#E5ECF6",
           "caxis": {
            "gridcolor": "white",
            "linecolor": "white",
            "ticks": ""
           }
          },
          "title": {
           "x": 0.05
          },
          "xaxis": {
           "automargin": true,
           "gridcolor": "white",
           "linecolor": "white",
           "ticks": "",
           "title": {
            "standoff": 15
           },
           "zerolinecolor": "white",
           "zerolinewidth": 2
          },
          "yaxis": {
           "automargin": true,
           "gridcolor": "white",
           "linecolor": "white",
           "ticks": "",
           "title": {
            "standoff": 15
           },
           "zerolinecolor": "white",
           "zerolinewidth": 2
          }
         }
        },
        "title": {
         "text": "Earnings 1 Year after Completion Grouped by Field of Study"
        },
        "yaxis": {
         "tickformat": "$,.0f",
         "title": {
          "text": "Earnings"
         }
        }
       }
      },
      "text/html": [
       "<div>                            <div id=\"7e832488-7995-46c8-be49-01779ebb4dfd\" class=\"plotly-graph-div\" style=\"height:525px; width:100%;\"></div>            <script type=\"text/javascript\">                require([\"plotly\"], function(Plotly) {                    window.PLOTLYENV=window.PLOTLYENV || {};                                    if (document.getElementById(\"7e832488-7995-46c8-be49-01779ebb4dfd\")) {                    Plotly.newPlot(                        \"7e832488-7995-46c8-be49-01779ebb4dfd\",                        [{\"box\":{\"visible\":true},\"meanline\":{\"visible\":true},\"name\":\"05\",\"showlegend\":false,\"x\":[\"05\",\"05\"],\"y\":[33213.0,33660.0],\"type\":\"violin\"},{\"box\":{\"visible\":true},\"meanline\":{\"visible\":true},\"name\":\"09\",\"showlegend\":false,\"x\":[\"09\",\"09\",\"09\",\"09\",\"09\",\"09\",\"09\",\"09\",\"09\"],\"y\":[34657.0,46269.0,30187.0,38390.0,25858.0,41488.0,42257.0,37210.0,31263.0],\"type\":\"violin\"},{\"box\":{\"visible\":true},\"meanline\":{\"visible\":true},\"name\":\"10\",\"showlegend\":false,\"x\":[\"10\"],\"y\":[48703.0],\"type\":\"violin\"},{\"box\":{\"visible\":true},\"meanline\":{\"visible\":true},\"name\":\"11\",\"showlegend\":false,\"x\":[\"11\",\"11\",\"11\",\"11\",\"11\",\"11\",\"11\",\"11\",\"11\",\"11\",\"11\",\"11\"],\"y\":[71979.0,86469.0,67784.0,57418.0,70780.0,75364.0,37101.0,66403.0,65910.0,85652.0,77117.0,69835.0],\"type\":\"violin\"},{\"box\":{\"visible\":true},\"meanline\":{\"visible\":true},\"name\":\"13\",\"showlegend\":false,\"x\":[\"13\",\"13\",\"13\",\"13\",\"13\",\"13\",\"13\",\"13\",\"13\",\"13\",\"13\",\"13\",\"13\"],\"y\":[43375.0,39074.0,42659.0,43637.0,40441.0,57508.0,43193.0,33949.0,41208.0,43698.0,48025.0,42655.0,44739.0],\"type\":\"violin\"},{\"box\":{\"visible\":true},\"meanline\":{\"visible\":true},\"name\":\"14\",\"showlegend\":false,\"x\":[\"14\",\"14\",\"14\",\"14\",\"14\",\"14\",\"14\",\"14\",\"14\",\"14\",\"14\",\"14\",\"14\",\"14\",\"14\"],\"y\":[71134.0,64584.0,79784.0,75488.0,65881.0,67138.0,60203.0,67878.0,64542.0,82864.0,63887.0,73510.0,64713.0,71975.0,67601.0],\"type\":\"violin\"},{\"box\":{\"visible\":true},\"meanline\":{\"visible\":true},\"name\":\"16\",\"showlegend\":false,\"x\":[\"16\",\"16\",\"16\",\"16\",\"16\",\"16\",\"16\"],\"y\":[33247.0,49724.0,37715.0,37698.0,29046.0,44728.0,35904.0],\"type\":\"violin\"},{\"box\":{\"visible\":true},\"meanline\":{\"visible\":true},\"name\":\"19\",\"showlegend\":false,\"x\":[\"19\",\"19\",\"19\",\"19\",\"19\",\"19\",\"19\"],\"y\":[24348.0,19031.0,25552.0,30564.0,21265.0,32998.0,31167.0],\"type\":\"violin\"},{\"box\":{\"visible\":true},\"meanline\":{\"visible\":true},\"name\":\"23\",\"showlegend\":false,\"x\":[\"23\",\"23\",\"23\",\"23\",\"23\",\"23\",\"23\"],\"y\":[28928.0,31920.0,41726.0,29158.0,30897.0,33292.0,30804.0],\"type\":\"violin\"},{\"box\":{\"visible\":true},\"meanline\":{\"visible\":true},\"name\":\"26\",\"showlegend\":false,\"x\":[\"26\",\"26\",\"26\",\"26\",\"26\",\"26\",\"26\",\"26\",\"26\"],\"y\":[20357.0,26908.0,27544.0,26616.0,31621.0,27274.0,33436.0,38438.0,33052.0],\"type\":\"violin\"},{\"box\":{\"visible\":true},\"meanline\":{\"visible\":true},\"name\":\"27\",\"showlegend\":false,\"x\":[\"27\",\"27\"],\"y\":[58223.0,56462.0],\"type\":\"violin\"},{\"box\":{\"visible\":true},\"meanline\":{\"visible\":true},\"name\":\"31\",\"showlegend\":false,\"x\":[\"31\",\"31\",\"31\",\"31\",\"31\",\"31\",\"31\"],\"y\":[45748.0,23297.0,28579.0,29740.0,35104.0,34364.0,34152.0],\"type\":\"violin\"},{\"box\":{\"visible\":true},\"meanline\":{\"visible\":true},\"name\":\"40\",\"showlegend\":false,\"x\":[\"40\",\"40\",\"40\"],\"y\":[65065.0,38443.0,46844.0],\"type\":\"violin\"},{\"box\":{\"visible\":true},\"meanline\":{\"visible\":true},\"name\":\"42\",\"showlegend\":false,\"x\":[\"42\",\"42\",\"42\",\"42\",\"42\",\"42\"],\"y\":[30691.0,24986.0,27843.0,30434.0,32569.0,31234.0],\"type\":\"violin\"},{\"box\":{\"visible\":true},\"meanline\":{\"visible\":true},\"name\":\"45\",\"showlegend\":false,\"x\":[\"45\",\"45\",\"45\",\"45\",\"45\",\"45\",\"45\",\"45\",\"45\",\"45\",\"45\",\"45\",\"45\",\"45\"],\"y\":[56599.0,35192.0,49714.0,47758.0,33075.0,26905.0,56160.0,35714.0,30047.0,31466.0,33315.0,51466.0,41114.0,35082.0],\"type\":\"violin\"},{\"box\":{\"visible\":true},\"meanline\":{\"visible\":true},\"name\":\"50\",\"showlegend\":false,\"x\":[\"50\",\"50\",\"50\",\"50\",\"50\",\"50\",\"50\",\"50\",\"50\",\"50\",\"50\",\"50\",\"50\",\"50\",\"50\"],\"y\":[36853.0,28248.0,29558.0,31129.0,17223.0,25895.0,31454.0,22929.0,36784.0,22648.0,23730.0,25918.0,32828.0,39217.0,17779.0],\"type\":\"violin\"},{\"box\":{\"visible\":true},\"meanline\":{\"visible\":true},\"name\":\"51\",\"showlegend\":false,\"x\":[\"51\",\"51\",\"51\",\"51\",\"51\",\"51\",\"51\",\"51\",\"51\",\"51\",\"51\",\"51\",\"51\",\"51\",\"51\",\"51\",\"51\",\"51\"],\"y\":[28408.0,58242.0,27319.0,28163.0,57610.0,58924.0,30686.0,32166.0,59532.0,35667.0,62547.0,39128.0,41529.0,58815.0,63701.0,34343.0,58928.0,59998.0],\"type\":\"violin\"},{\"box\":{\"visible\":true},\"meanline\":{\"visible\":true},\"name\":\"52\",\"showlegend\":false,\"x\":[\"52\",\"52\",\"52\",\"52\",\"52\",\"52\",\"52\",\"52\",\"52\",\"52\",\"52\",\"52\",\"52\",\"52\",\"52\",\"52\",\"52\",\"52\",\"52\",\"52\",\"52\",\"52\",\"52\",\"52\",\"52\",\"52\",\"52\",\"52\",\"52\",\"52\",\"52\",\"52\"],\"y\":[64372.0,62338.0,70080.0,53829.0,74883.0,58291.0,59117.0,69456.0,46898.0,33485.0,49448.0,54453.0,56594.0,51511.0,56394.0,51058.0,57758.0,37706.0,51672.0,50902.0,59878.0,60152.0,51688.0,57781.0,51486.0,50279.0,53424.0,64997.0,51347.0,55931.0,51938.0,44300.0],\"type\":\"violin\"},{\"box\":{\"visible\":true},\"meanline\":{\"visible\":true},\"name\":\"54\",\"showlegend\":false,\"x\":[\"54\",\"54\",\"54\",\"54\"],\"y\":[33397.0,30136.0,32694.0,28541.0],\"type\":\"violin\"},{\"box\":{\"visible\":true},\"meanline\":{\"visible\":true},\"name\":\"24\",\"showlegend\":false,\"x\":[\"24\",\"24\",\"24\",\"24\"],\"y\":[36981.0,30086.0,42698.0,38071.0],\"type\":\"violin\"},{\"box\":{\"visible\":true},\"meanline\":{\"visible\":true},\"name\":\"43\",\"showlegend\":false,\"x\":[\"43\",\"43\",\"43\",\"43\"],\"y\":[36865.0,42800.0,56578.0,40955.0],\"type\":\"violin\"},{\"box\":{\"visible\":true},\"meanline\":{\"visible\":true},\"name\":\"01\",\"showlegend\":false,\"x\":[\"01\",\"01\"],\"y\":[45395.0,30278.0],\"type\":\"violin\"},{\"box\":{\"visible\":true},\"meanline\":{\"visible\":true},\"name\":\"04\",\"showlegend\":false,\"x\":[\"04\",\"04\"],\"y\":[48671.0,39464.0],\"type\":\"violin\"},{\"box\":{\"visible\":true},\"meanline\":{\"visible\":true},\"name\":\"30\",\"showlegend\":false,\"x\":[\"30\",\"30\",\"30\"],\"y\":[28338.0,31108.0,37755.0],\"type\":\"violin\"},{\"box\":{\"visible\":true},\"meanline\":{\"visible\":true},\"name\":\"44\",\"showlegend\":false,\"x\":[\"44\",\"44\",\"44\",\"44\"],\"y\":[30124.0,32598.0,37283.0,38055.0],\"type\":\"violin\"},{\"box\":{\"visible\":true},\"meanline\":{\"visible\":true},\"name\":\"46\",\"showlegend\":false,\"x\":[\"46\"],\"y\":[68886.0],\"type\":\"violin\"},{\"box\":{\"visible\":true},\"meanline\":{\"visible\":true},\"name\":\"49\",\"showlegend\":false,\"x\":[\"49\",\"49\"],\"y\":[56993.0,44128.0],\"type\":\"violin\"},{\"box\":{\"visible\":true},\"meanline\":{\"visible\":true},\"name\":\"15\",\"showlegend\":false,\"x\":[\"15\",\"15\"],\"y\":[69077.0,62141.0],\"type\":\"violin\"}],                        {\"template\":{\"data\":{\"histogram2dcontour\":[{\"type\":\"histogram2dcontour\",\"colorbar\":{\"outlinewidth\":0,\"ticks\":\"\"},\"colorscale\":[[0.0,\"#0d0887\"],[0.1111111111111111,\"#46039f\"],[0.2222222222222222,\"#7201a8\"],[0.3333333333333333,\"#9c179e\"],[0.4444444444444444,\"#bd3786\"],[0.5555555555555556,\"#d8576b\"],[0.6666666666666666,\"#ed7953\"],[0.7777777777777778,\"#fb9f3a\"],[0.8888888888888888,\"#fdca26\"],[1.0,\"#f0f921\"]]}],\"choropleth\":[{\"type\":\"choropleth\",\"colorbar\":{\"outlinewidth\":0,\"ticks\":\"\"}}],\"histogram2d\":[{\"type\":\"histogram2d\",\"colorbar\":{\"outlinewidth\":0,\"ticks\":\"\"},\"colorscale\":[[0.0,\"#0d0887\"],[0.1111111111111111,\"#46039f\"],[0.2222222222222222,\"#7201a8\"],[0.3333333333333333,\"#9c179e\"],[0.4444444444444444,\"#bd3786\"],[0.5555555555555556,\"#d8576b\"],[0.6666666666666666,\"#ed7953\"],[0.7777777777777778,\"#fb9f3a\"],[0.8888888888888888,\"#fdca26\"],[1.0,\"#f0f921\"]]}],\"heatmap\":[{\"type\":\"heatmap\",\"colorbar\":{\"outlinewidth\":0,\"ticks\":\"\"},\"colorscale\":[[0.0,\"#0d0887\"],[0.1111111111111111,\"#46039f\"],[0.2222222222222222,\"#7201a8\"],[0.3333333333333333,\"#9c179e\"],[0.4444444444444444,\"#bd3786\"],[0.5555555555555556,\"#d8576b\"],[0.6666666666666666,\"#ed7953\"],[0.7777777777777778,\"#fb9f3a\"],[0.8888888888888888,\"#fdca26\"],[1.0,\"#f0f921\"]]}],\"heatmapgl\":[{\"type\":\"heatmapgl\",\"colorbar\":{\"outlinewidth\":0,\"ticks\":\"\"},\"colorscale\":[[0.0,\"#0d0887\"],[0.1111111111111111,\"#46039f\"],[0.2222222222222222,\"#7201a8\"],[0.3333333333333333,\"#9c179e\"],[0.4444444444444444,\"#bd3786\"],[0.5555555555555556,\"#d8576b\"],[0.6666666666666666,\"#ed7953\"],[0.7777777777777778,\"#fb9f3a\"],[0.8888888888888888,\"#fdca26\"],[1.0,\"#f0f921\"]]}],\"contourcarpet\":[{\"type\":\"contourcarpet\",\"colorbar\":{\"outlinewidth\":0,\"ticks\":\"\"}}],\"contour\":[{\"type\":\"contour\",\"colorbar\":{\"outlinewidth\":0,\"ticks\":\"\"},\"colorscale\":[[0.0,\"#0d0887\"],[0.1111111111111111,\"#46039f\"],[0.2222222222222222,\"#7201a8\"],[0.3333333333333333,\"#9c179e\"],[0.4444444444444444,\"#bd3786\"],[0.5555555555555556,\"#d8576b\"],[0.6666666666666666,\"#ed7953\"],[0.7777777777777778,\"#fb9f3a\"],[0.8888888888888888,\"#fdca26\"],[1.0,\"#f0f921\"]]}],\"surface\":[{\"type\":\"surface\",\"colorbar\":{\"outlinewidth\":0,\"ticks\":\"\"},\"colorscale\":[[0.0,\"#0d0887\"],[0.1111111111111111,\"#46039f\"],[0.2222222222222222,\"#7201a8\"],[0.3333333333333333,\"#9c179e\"],[0.4444444444444444,\"#bd3786\"],[0.5555555555555556,\"#d8576b\"],[0.6666666666666666,\"#ed7953\"],[0.7777777777777778,\"#fb9f3a\"],[0.8888888888888888,\"#fdca26\"],[1.0,\"#f0f921\"]]}],\"mesh3d\":[{\"type\":\"mesh3d\",\"colorbar\":{\"outlinewidth\":0,\"ticks\":\"\"}}],\"scatter\":[{\"fillpattern\":{\"fillmode\":\"overlay\",\"size\":10,\"solidity\":0.2},\"type\":\"scatter\"}],\"parcoords\":[{\"type\":\"parcoords\",\"line\":{\"colorbar\":{\"outlinewidth\":0,\"ticks\":\"\"}}}],\"scatterpolargl\":[{\"type\":\"scatterpolargl\",\"marker\":{\"colorbar\":{\"outlinewidth\":0,\"ticks\":\"\"}}}],\"bar\":[{\"error_x\":{\"color\":\"#2a3f5f\"},\"error_y\":{\"color\":\"#2a3f5f\"},\"marker\":{\"line\":{\"color\":\"#E5ECF6\",\"width\":0.5},\"pattern\":{\"fillmode\":\"overlay\",\"size\":10,\"solidity\":0.2}},\"type\":\"bar\"}],\"scattergeo\":[{\"type\":\"scattergeo\",\"marker\":{\"colorbar\":{\"outlinewidth\":0,\"ticks\":\"\"}}}],\"scatterpolar\":[{\"type\":\"scatterpolar\",\"marker\":{\"colorbar\":{\"outlinewidth\":0,\"ticks\":\"\"}}}],\"histogram\":[{\"marker\":{\"pattern\":{\"fillmode\":\"overlay\",\"size\":10,\"solidity\":0.2}},\"type\":\"histogram\"}],\"scattergl\":[{\"type\":\"scattergl\",\"marker\":{\"colorbar\":{\"outlinewidth\":0,\"ticks\":\"\"}}}],\"scatter3d\":[{\"type\":\"scatter3d\",\"line\":{\"colorbar\":{\"outlinewidth\":0,\"ticks\":\"\"}},\"marker\":{\"colorbar\":{\"outlinewidth\":0,\"ticks\":\"\"}}}],\"scattermapbox\":[{\"type\":\"scattermapbox\",\"marker\":{\"colorbar\":{\"outlinewidth\":0,\"ticks\":\"\"}}}],\"scatterternary\":[{\"type\":\"scatterternary\",\"marker\":{\"colorbar\":{\"outlinewidth\":0,\"ticks\":\"\"}}}],\"scattercarpet\":[{\"type\":\"scattercarpet\",\"marker\":{\"colorbar\":{\"outlinewidth\":0,\"ticks\":\"\"}}}],\"carpet\":[{\"aaxis\":{\"endlinecolor\":\"#2a3f5f\",\"gridcolor\":\"white\",\"linecolor\":\"white\",\"minorgridcolor\":\"white\",\"startlinecolor\":\"#2a3f5f\"},\"baxis\":{\"endlinecolor\":\"#2a3f5f\",\"gridcolor\":\"white\",\"linecolor\":\"white\",\"minorgridcolor\":\"white\",\"startlinecolor\":\"#2a3f5f\"},\"type\":\"carpet\"}],\"table\":[{\"cells\":{\"fill\":{\"color\":\"#EBF0F8\"},\"line\":{\"color\":\"white\"}},\"header\":{\"fill\":{\"color\":\"#C8D4E3\"},\"line\":{\"color\":\"white\"}},\"type\":\"table\"}],\"barpolar\":[{\"marker\":{\"line\":{\"color\":\"#E5ECF6\",\"width\":0.5},\"pattern\":{\"fillmode\":\"overlay\",\"size\":10,\"solidity\":0.2}},\"type\":\"barpolar\"}],\"pie\":[{\"automargin\":true,\"type\":\"pie\"}]},\"layout\":{\"autotypenumbers\":\"strict\",\"colorway\":[\"#636efa\",\"#EF553B\",\"#00cc96\",\"#ab63fa\",\"#FFA15A\",\"#19d3f3\",\"#FF6692\",\"#B6E880\",\"#FF97FF\",\"#FECB52\"],\"font\":{\"color\":\"#2a3f5f\"},\"hovermode\":\"closest\",\"hoverlabel\":{\"align\":\"left\"},\"paper_bgcolor\":\"white\",\"plot_bgcolor\":\"#E5ECF6\",\"polar\":{\"bgcolor\":\"#E5ECF6\",\"angularaxis\":{\"gridcolor\":\"white\",\"linecolor\":\"white\",\"ticks\":\"\"},\"radialaxis\":{\"gridcolor\":\"white\",\"linecolor\":\"white\",\"ticks\":\"\"}},\"ternary\":{\"bgcolor\":\"#E5ECF6\",\"aaxis\":{\"gridcolor\":\"white\",\"linecolor\":\"white\",\"ticks\":\"\"},\"baxis\":{\"gridcolor\":\"white\",\"linecolor\":\"white\",\"ticks\":\"\"},\"caxis\":{\"gridcolor\":\"white\",\"linecolor\":\"white\",\"ticks\":\"\"}},\"coloraxis\":{\"colorbar\":{\"outlinewidth\":0,\"ticks\":\"\"}},\"colorscale\":{\"sequential\":[[0.0,\"#0d0887\"],[0.1111111111111111,\"#46039f\"],[0.2222222222222222,\"#7201a8\"],[0.3333333333333333,\"#9c179e\"],[0.4444444444444444,\"#bd3786\"],[0.5555555555555556,\"#d8576b\"],[0.6666666666666666,\"#ed7953\"],[0.7777777777777778,\"#fb9f3a\"],[0.8888888888888888,\"#fdca26\"],[1.0,\"#f0f921\"]],\"sequentialminus\":[[0.0,\"#0d0887\"],[0.1111111111111111,\"#46039f\"],[0.2222222222222222,\"#7201a8\"],[0.3333333333333333,\"#9c179e\"],[0.4444444444444444,\"#bd3786\"],[0.5555555555555556,\"#d8576b\"],[0.6666666666666666,\"#ed7953\"],[0.7777777777777778,\"#fb9f3a\"],[0.8888888888888888,\"#fdca26\"],[1.0,\"#f0f921\"]],\"diverging\":[[0,\"#8e0152\"],[0.1,\"#c51b7d\"],[0.2,\"#de77ae\"],[0.3,\"#f1b6da\"],[0.4,\"#fde0ef\"],[0.5,\"#f7f7f7\"],[0.6,\"#e6f5d0\"],[0.7,\"#b8e186\"],[0.8,\"#7fbc41\"],[0.9,\"#4d9221\"],[1,\"#276419\"]]},\"xaxis\":{\"gridcolor\":\"white\",\"linecolor\":\"white\",\"ticks\":\"\",\"title\":{\"standoff\":15},\"zerolinecolor\":\"white\",\"automargin\":true,\"zerolinewidth\":2},\"yaxis\":{\"gridcolor\":\"white\",\"linecolor\":\"white\",\"ticks\":\"\",\"title\":{\"standoff\":15},\"zerolinecolor\":\"white\",\"automargin\":true,\"zerolinewidth\":2},\"scene\":{\"xaxis\":{\"backgroundcolor\":\"#E5ECF6\",\"gridcolor\":\"white\",\"linecolor\":\"white\",\"showbackground\":true,\"ticks\":\"\",\"zerolinecolor\":\"white\",\"gridwidth\":2},\"yaxis\":{\"backgroundcolor\":\"#E5ECF6\",\"gridcolor\":\"white\",\"linecolor\":\"white\",\"showbackground\":true,\"ticks\":\"\",\"zerolinecolor\":\"white\",\"gridwidth\":2},\"zaxis\":{\"backgroundcolor\":\"#E5ECF6\",\"gridcolor\":\"white\",\"linecolor\":\"white\",\"showbackground\":true,\"ticks\":\"\",\"zerolinecolor\":\"white\",\"gridwidth\":2}},\"shapedefaults\":{\"line\":{\"color\":\"#2a3f5f\"}},\"annotationdefaults\":{\"arrowcolor\":\"#2a3f5f\",\"arrowhead\":0,\"arrowwidth\":1},\"geo\":{\"bgcolor\":\"white\",\"landcolor\":\"#E5ECF6\",\"subunitcolor\":\"white\",\"showland\":true,\"showlakes\":true,\"lakecolor\":\"white\"},\"title\":{\"x\":0.05},\"mapbox\":{\"style\":\"light\"}}},\"yaxis\":{\"tickformat\":\"$,.0f\",\"title\":{\"text\":\"Earnings\"}},\"font\":{\"family\":\"Courier New, monospace\",\"size\":10,\"color\":\"RebeccaPurple\"},\"title\":{\"text\":\"Earnings 1 Year after Completion Grouped by Field of Study\"}},                        {\"responsive\": true}                    ).then(function(){\n",
       "                            \n",
       "var gd = document.getElementById('7e832488-7995-46c8-be49-01779ebb4dfd');\n",
       "var x = new MutationObserver(function (mutations, observer) {{\n",
       "        var display = window.getComputedStyle(gd).display;\n",
       "        if (!display || display === 'none') {{\n",
       "            console.log([gd, 'removed!']);\n",
       "            Plotly.purge(gd);\n",
       "            observer.disconnect();\n",
       "        }}\n",
       "}});\n",
       "\n",
       "// Listen for the removal of the full notebook cells\n",
       "var notebookContainer = gd.closest('#notebook-container');\n",
       "if (notebookContainer) {{\n",
       "    x.observe(notebookContainer, {childList: true});\n",
       "}}\n",
       "\n",
       "// Listen for the clearing of the current output cell\n",
       "var outputEl = gd.closest('.output');\n",
       "if (outputEl) {{\n",
       "    x.observe(outputEl, {childList: true});\n",
       "}}\n",
       "\n",
       "                        })                };                });            </script>        </div>"
      ]
     },
     "metadata": {},
     "output_type": "display_data"
    }
   ],
   "source": [
    "fig = go.Figure()\n",
    "\n",
    "fields = df['CIPFIELD'].unique().tolist() # Get list of unique fields of study\n",
    "\n",
    "# Create violin plot for each field of study\n",
    "for field in fields:\n",
    "    fig.add_trace(go.Violin(x=df['CIPFIELD'][df['CIPFIELD'] == field],\n",
    "                            y=df['EARN_MDN_1YR'][df['CIPFIELD'] == field],\n",
    "                            name=field,\n",
    "                            box_visible=True,\n",
    "                            meanline_visible=True,\n",
    "                            showlegend=False))\n",
    "\n",
    "# Format the plot\n",
    "fig.update_yaxes(tickformat=\"$,.0f\")\n",
    "fig.update_layout(\n",
    "    title=\"Earnings 1 Year after Completion Grouped by Field of Study\",\n",
    "    yaxis_title=\"Earnings\",\n",
    "    font=dict(\n",
    "        family=\"Courier New, monospace\",\n",
    "        size=10,\n",
    "        color=\"RebeccaPurple\"\n",
    "    )\n",
    ")"
   ]
  },
  {
   "cell_type": "markdown",
   "metadata": {},
   "source": [
    "## Explore earnings by general Field of Study within each University"
   ]
  },
  {
   "cell_type": "code",
   "execution_count": 67,
   "metadata": {},
   "outputs": [],
   "source": [
    "# Group earnings for each field of study for each university\n",
    "univ_field_1yr = df.groupby(['INSTNM', 'CIPDEF']).agg({'EARN_COUNT_WNE_1YR': 'sum','EARN_MDN_1YR': ['median', 'min', 'max']}).reset_index()\n",
    "univ_field_1yr.columns = ['_'.join(col).strip() for col in univ_field_1yr.columns.values]\n",
    "\n",
    "# Write to Excel file with index\n",
    "with pd.ExcelWriter(\"Data/earnings_tables.xlsx\", mode='a', engine='openpyxl', if_sheet_exists='replace') as writer:\n",
    "    univ_field_1yr.to_excel(writer, sheet_name='univ_field_1yr', index=False)\n"
   ]
  },
  {
   "cell_type": "code",
   "execution_count": 68,
   "metadata": {},
   "outputs": [],
   "source": [
    "# Group earnings for each field of study for each university\n",
    "univ_field_4yr = df.groupby(['INSTNM', 'CIPDEF']).agg({'EARN_COUNT_WNE_4YR': 'sum','EARN_MDN_4YR': ['median', 'min', 'max']}).reset_index()\n",
    "univ_field_4yr.columns = ['_'.join(col).strip() for col in univ_field_4yr.columns.values]\n",
    "\n",
    "# Write to Excel file with index\n",
    "with pd.ExcelWriter(\"Data/earnings_tables.xlsx\", mode='a', engine='openpyxl', if_sheet_exists='replace') as writer:\n",
    "    univ_field_4yr.to_excel(writer, sheet_name='univ_field_4yr', index=False)"
   ]
  },
  {
   "cell_type": "code",
   "execution_count": 82,
   "metadata": {},
   "outputs": [
    {
     "name": "stderr",
     "output_type": "stream",
     "text": [
      "C:\\Users\\svens\\AppData\\Local\\Temp\\ipykernel_13252\\1633866768.py:26: UserWarning:\n",
      "\n",
      "Tight layout not applied. The bottom and top margins cannot be made large enough to accommodate all axes decorations.\n",
      "\n"
     ]
    },
    {
     "data": {
      "image/png": "[encoded data removed]",
      "text/plain": [
       "<Figure size 1000x600 with 1 Axes>"
      ]
     },
     "metadata": {},
     "output_type": "display_data"
    }
   ],
   "source": [
    "# Scatter plot of UofU majors with 4yr earnings\n",
    "uofu_data = univ_field_4yr[univ_field_4yr['INSTNM_'] == 'University of Utah']\n",
    "\n",
    "# 1. Styling\n",
    "sns.set_style(\"whitegrid\")\n",
    "sns.set_context(\"notebook\", font_scale=1.25)\n",
    "\n",
    "# 2. Palette\n",
    "palette = sns.color_palette(\"muted\")\n",
    "\n",
    "# 3. Size and Aspect Ratio\n",
    "plt.figure(figsize=(10, 6))\n",
    "\n",
    "# Creating scatter plot\n",
    "sns.scatterplot(data=uofu_data, x=\"CIPDEF_\", y='EARN_MDN_4YR_median', color=palette[0], edgecolor='w', s=100)\n",
    "\n",
    "# 4. Plot Customizations\n",
    "plt.title('Sample Scatter Plot', fontsize=18)\n",
    "plt.xlabel('X-axis Label', fontsize=15)\n",
    "plt.ylabel('Y-axis Label', fontsize=15)\n",
    "plt.grid(True, which='both', linestyle='--', linewidth=0.5)\n",
    "\n",
    "# 5. Despine\n",
    "sns.despine(left=True, bottom=True)\n",
    "plt.xticks(rotation=-90)\n",
    "plt.tight_layout()\n",
    "plt.show()"
   ]
  }
 ],
 "metadata": {
  "kernelspec": {
   "display_name": "HonorsThesis",
   "language": "python",
   "name": "python3"
  },
  "language_info": {
   "codemirror_mode": {
    "name": "ipython",
    "version": 3
   },
   "file_extension": ".py",
   "mimetype": "text/x-python",
   "name": "python",
   "nbconvert_exporter": "python",
   "pygments_lexer": "ipython3",
   "version": "3.11.5"
  },
  "orig_nbformat": 4
 },
 "nbformat": 4,
 "nbformat_minor": 2
}
